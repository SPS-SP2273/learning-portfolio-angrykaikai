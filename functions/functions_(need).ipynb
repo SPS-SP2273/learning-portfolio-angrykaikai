{
 "cells": [
  {
   "cell_type": "markdown",
   "id": "123456",
   "metadata": {},
   "source": [
    "<div style=\"text-align:left;font-size:2em\"><span style=\"font-weight:bolder;font-size:1.25em\">SP2273 | Learning Portfolio</span><br><br><span style=\"font-weight:bold;color:darkred\">Functions (Need)</span></div>"
   ]
  },
  {
   "cell_type": "markdown",
   "id": "2f5071c1",
   "metadata": {},
   "source": [
    "## 1 User defined functions"
   ]
  },
  {
   "cell_type": "markdown",
   "id": "48927a67",
   "metadata": {},
   "source": [
    "### 1.1 Named functions that return"
   ]
  },
  {
   "cell_type": "code",
   "execution_count": 1,
   "id": "9d1fbe10",
   "metadata": {},
   "outputs": [],
   "source": [
    "def greeting(name):\n",
    "    if name == 'Batman':\n",
    "        return 'Hello Batman! So, nice to meet you!'\n",
    "    else:\n",
    "        return f'Hello {name}!'\n"
   ]
  },
  {
   "cell_type": "code",
   "execution_count": 3,
   "id": "7b0936ee",
   "metadata": {},
   "outputs": [
    {
     "data": {
      "text/plain": [
       "'Hello superman!'"
      ]
     },
     "execution_count": 3,
     "metadata": {},
     "output_type": "execute_result"
    }
   ],
   "source": [
    "greeting('superman')"
   ]
  },
  {
   "cell_type": "code",
   "execution_count": 7,
   "id": "16fab03e",
   "metadata": {},
   "outputs": [
    {
     "data": {
      "text/plain": [
       "'Hello Super Man!'"
      ]
     },
     "execution_count": 7,
     "metadata": {},
     "output_type": "execute_result"
    }
   ],
   "source": [
    "greeting(name=\"Super Man\")"
   ]
  },
  {
   "cell_type": "code",
   "execution_count": 5,
   "id": "06168771",
   "metadata": {},
   "outputs": [
    {
     "data": {
      "text/plain": [
       "'Hello batman!'"
      ]
     },
     "execution_count": 5,
     "metadata": {},
     "output_type": "execute_result"
    }
   ],
   "source": [
    "greeting(\"batman\")   # remember, case sensitive"
   ]
  },
  {
   "cell_type": "code",
   "execution_count": 6,
   "id": "645858b4",
   "metadata": {},
   "outputs": [
    {
     "data": {
      "text/plain": [
       "'Hello Batman! So, nice to meet you!'"
      ]
     },
     "execution_count": 6,
     "metadata": {},
     "output_type": "execute_result"
    }
   ],
   "source": [
    "greeting(\"Batman\")"
   ]
  },
  {
   "cell_type": "code",
   "execution_count": 8,
   "id": "30810b53",
   "metadata": {},
   "outputs": [
    {
     "name": "stdout",
     "output_type": "stream",
     "text": [
      "Hello Super Man!\n"
     ]
    }
   ],
   "source": [
    "greet=greeting(name='Super Man')\n",
    "print(greet)"
   ]
  },
  {
   "cell_type": "code",
   "execution_count": 9,
   "id": "74614abc",
   "metadata": {},
   "outputs": [
    {
     "name": "stdout",
     "output_type": "stream",
     "text": [
      "Hello Super Man!\n"
     ]
    }
   ],
   "source": [
    "print(greeting(name='Super Man'))"
   ]
  },
  {
   "cell_type": "code",
   "execution_count": 10,
   "id": "04425a28",
   "metadata": {},
   "outputs": [],
   "source": [
    "def basic_stats(numbers):           # what does this line do?\n",
    "    np_numbers=np.array(numbers)\n",
    "    return np_numbers.min(), np_numbers.max(), np_numbers.mean()"
   ]
  },
  {
   "cell_type": "code",
   "execution_count": 11,
   "id": "7e4c2515",
   "metadata": {},
   "outputs": [],
   "source": [
    "list_min, list_max, list_mean = basic_stats([1, 2, 3, 4, 5])"
   ]
  },
  {
   "cell_type": "markdown",
   "id": "6598aead",
   "metadata": {},
   "source": [
    "### 1.2 Named functions that don’t return"
   ]
  },
  {
   "cell_type": "code",
   "execution_count": 12,
   "id": "16d68b87",
   "metadata": {},
   "outputs": [],
   "source": [
    "#print() is an example of a function that does something but does not return a value\n"
   ]
  },
  {
   "cell_type": "markdown",
   "id": "e0d0b112",
   "metadata": {},
   "source": [
    "### 1.3 Anonymous functions"
   ]
  },
  {
   "cell_type": "code",
   "execution_count": null,
   "id": "7b527f37",
   "metadata": {},
   "outputs": [],
   "source": [
    "def my_short_function(name):\n",
    "    return f\"Hello {name}!\""
   ]
  },
  {
   "cell_type": "code",
   "execution_count": 13,
   "id": "5ff08387",
   "metadata": {},
   "outputs": [],
   "source": [
    "my_short_function = lambda name: f\"Hello {name}!\"    # suitable for short one-liners"
   ]
  },
  {
   "cell_type": "code",
   "execution_count": 14,
   "id": "6eb13b59",
   "metadata": {},
   "outputs": [
    {
     "data": {
      "text/plain": [
       "'Hello Super Man!'"
      ]
     },
     "execution_count": 14,
     "metadata": {},
     "output_type": "execute_result"
    }
   ],
   "source": [
    "my_short_function(name=\"Super Man\")                  #can accept a single argument \"name\""
   ]
  },
  {
   "cell_type": "code",
   "execution_count": 15,
   "id": "06e6e003",
   "metadata": {},
   "outputs": [
    {
     "data": {
      "text/plain": [
       "[[0, 9, 19],\n",
       " [1, 8, 18],\n",
       " [2, 7, 17],\n",
       " [3, 6, 16],\n",
       " [4, 5, 15],\n",
       " [5, 4, 14],\n",
       " [6, 3, 13],\n",
       " [7, 2, 12],\n",
       " [8, 1, 11],\n",
       " [9, 0, 10]]"
      ]
     },
     "execution_count": 15,
     "metadata": {},
     "output_type": "execute_result"
    }
   ],
   "source": [
    "numbers=[[9, 0, 10],             # 'sorted' is an inbuilt python function\n",
    "         [8, 1, 11],\n",
    "         [7, 2, 12],\n",
    "         [6, 3, 13],\n",
    "         [5, 4, 14],\n",
    "         [4, 5, 15],\n",
    "         [3, 6, 16],\n",
    "         [2, 7, 17],\n",
    "         [1, 8, 18],\n",
    "         [0, 9, 19]]\n",
    "\n",
    "sorted(numbers)                         # Sort by comparing the default key \n",
    "                                        # (i.e. the 1st element) "
   ]
  },
  {
   "cell_type": "code",
   "execution_count": 18,
   "id": "88c173af",
   "metadata": {},
   "outputs": [],
   "source": [
    "def short(x):                   # for most functions, you have to define them first before using them\n",
    "    return x[1]"
   ]
  },
  {
   "cell_type": "code",
   "execution_count": 19,
   "id": "153edcfb",
   "metadata": {},
   "outputs": [
    {
     "data": {
      "text/plain": [
       "[[9, 0, 10],\n",
       " [8, 1, 11],\n",
       " [7, 2, 12],\n",
       " [6, 3, 13],\n",
       " [5, 4, 14],\n",
       " [4, 5, 15],\n",
       " [3, 6, 16],\n",
       " [2, 7, 17],\n",
       " [1, 8, 18],\n",
       " [0, 9, 19]]"
      ]
     },
     "execution_count": 19,
     "metadata": {},
     "output_type": "execute_result"
    }
   ],
   "source": [
    "sorted(numbers, key=short)     # these are the two lines that you would have to write if \"lambda\" didn't exist"
   ]
  },
  {
   "cell_type": "code",
   "execution_count": 16,
   "id": "c8a68e5e",
   "metadata": {},
   "outputs": [
    {
     "data": {
      "text/plain": [
       "[[9, 0, 10],\n",
       " [8, 1, 11],\n",
       " [7, 2, 12],\n",
       " [6, 3, 13],\n",
       " [5, 4, 14],\n",
       " [4, 5, 15],\n",
       " [3, 6, 16],\n",
       " [2, 7, 17],\n",
       " [1, 8, 18],\n",
       " [0, 9, 19]]"
      ]
     },
     "execution_count": 16,
     "metadata": {},
     "output_type": "execute_result"
    }
   ],
   "source": [
    "sorted(numbers, key=lambda x: x[1])     # Sort by comparing a custom key\n",
    "                                        # that uses the 2nd element\n",
    "# lambda allows you to define and use the function immediately, but since it's not defined, you can't use it again later on\n",
    "# because the function is not named(single use only)"
   ]
  },
  {
   "cell_type": "code",
   "execution_count": 20,
   "id": "a292e365",
   "metadata": {},
   "outputs": [
    {
     "data": {
      "text/plain": [
       "[[9, 0, 10],\n",
       " [8, 1, 11],\n",
       " [7, 2, 12],\n",
       " [6, 3, 13],\n",
       " [5, 4, 14],\n",
       " [4, 5, 15],\n",
       " [3, 6, 16],\n",
       " [2, 7, 17],\n",
       " [1, 8, 18],\n",
       " [0, 9, 19]]"
      ]
     },
     "execution_count": 20,
     "metadata": {},
     "output_type": "execute_result"
    }
   ],
   "source": [
    "sorted(numbers, key=lambda x: sum(x))   # Sort by comparing a custom key\n",
    "                                        # that uses the sum of the elements"
   ]
  },
  {
   "cell_type": "markdown",
   "id": "3bcee018",
   "metadata": {},
   "source": [
    "### 1.4 Optional arguments"
   ]
  },
  {
   "cell_type": "code",
   "execution_count": 25,
   "id": "9bdd2891",
   "metadata": {},
   "outputs": [],
   "source": [
    "def greeting(name='no one'):          # assigns a default value to the argument when it would normally be just \"name\"\n",
    "    if name == 'Batman':\n",
    "        return 'Hello Batman! So, nice to meet you!'\n",
    "    else:\n",
    "        return f'Hello {name}!'\n"
   ]
  },
  {
   "cell_type": "code",
   "execution_count": 26,
   "id": "261ba6ba",
   "metadata": {},
   "outputs": [
    {
     "data": {
      "text/plain": [
       "'Hello Batman! So, nice to meet you!'"
      ]
     },
     "execution_count": 26,
     "metadata": {},
     "output_type": "execute_result"
    }
   ],
   "source": [
    "greeting(\"Batman\")"
   ]
  },
  {
   "cell_type": "code",
   "execution_count": 27,
   "id": "88e6c68c",
   "metadata": {},
   "outputs": [
    {
     "data": {
      "text/plain": [
       "'Hello no one!'"
      ]
     },
     "execution_count": 27,
     "metadata": {},
     "output_type": "execute_result"
    }
   ],
   "source": [
    "greeting()"
   ]
  },
  {
   "cell_type": "code",
   "execution_count": 28,
   "id": "0a248d15",
   "metadata": {},
   "outputs": [
    {
     "name": "stdout",
     "output_type": "stream",
     "text": [
      "I am Batman!\n",
      "I---am---Batman!\n"
     ]
    }
   ],
   "source": [
    "print('I', 'am', 'Batman!')                 # Just for comparison\n",
    "#> I am Batman!\n",
    "print('I', 'am', 'Batman!', sep='---')   # 'sep' inserts a string between values, default is a space\n",
    "#> I---am---Batman!"
   ]
  },
  {
   "cell_type": "markdown",
   "id": "00f5fcf5",
   "metadata": {},
   "source": [
    "## 2 The importance of functions?"
   ]
  },
  {
   "cell_type": "markdown",
   "id": "65883423",
   "metadata": {},
   "source": [
    "### 2.1 An argument for functions"
   ]
  },
  {
   "cell_type": "markdown",
   "id": "4b722ab7",
   "metadata": {},
   "source": [
    "1. Abstraction of details: certain processes can be compartmentalised so that it is easier to focus on other things\n",
    "2. Allows you to reuse a chunk of code without having to copy and paste it many times\n",
    "3. Allows code to be more easily maintained because you only have to change it at one point(the definition of the function)"
   ]
  },
  {
   "cell_type": "markdown",
   "id": "0bcce082",
   "metadata": {},
   "source": [
    "### 2.2 A word of caution"
   ]
  },
  {
   "cell_type": "markdown",
   "id": "254834b0",
   "metadata": {},
   "source": [
    "Functions can be abused. Some ways include:\n",
    "1. trying to do too much within one function\n",
    "2. having too many functions, making things very messy"
   ]
  },
  {
   "cell_type": "markdown",
   "id": "8ed6e8c9",
   "metadata": {},
   "source": [
    "## Exercise 1 :  Do you know why?"
   ]
  },
  {
   "cell_type": "code",
   "execution_count": 29,
   "id": "0afcac7c",
   "metadata": {},
   "outputs": [],
   "source": [
    "def greeting(name):\n",
    "    if name == 'Batman':\n",
    "        return 'Hello Batman! So, nice to meet you!'\n",
    "    return f'Hello {name}!'\n",
    "\n",
    "# why does this code work despite not having an 'else' function?"
   ]
  },
  {
   "cell_type": "markdown",
   "id": "64884cfe",
   "metadata": {},
   "source": [
    "because if the 'if' condition is not "
   ]
  },
  {
   "cell_type": "markdown",
   "id": "109e0f81",
   "metadata": {},
   "source": [
    "## Exercise 2 :  Calculator functions"
   ]
  },
  {
   "cell_type": "code",
   "execution_count": 77,
   "id": "955f9c12",
   "metadata": {},
   "outputs": [],
   "source": [
    "def add(x,y):\n",
    "    return x+y\n"
   ]
  },
  {
   "cell_type": "code",
   "execution_count": 78,
   "id": "bbb262d1",
   "metadata": {},
   "outputs": [],
   "source": [
    "def subtract(x,y):\n",
    "    return x-y"
   ]
  },
  {
   "cell_type": "code",
   "execution_count": 79,
   "id": "d009d1b4",
   "metadata": {},
   "outputs": [],
   "source": [
    "def multiply(x,y):\n",
    "    return x*y"
   ]
  },
  {
   "cell_type": "code",
   "execution_count": 80,
   "id": "cf208184",
   "metadata": {},
   "outputs": [],
   "source": [
    "def divide(x,y):                       # still can't figure out how to use 'exit()' to exclude the zero\n",
    "    if y.all()==0:\n",
    "        return \"error\"\n",
    "    return x/y"
   ]
  },
  {
   "cell_type": "code",
   "execution_count": 81,
   "id": "748ea8cc",
   "metadata": {},
   "outputs": [],
   "source": [
    "x=np.array([36, 34, 44, 76, 27, 100])\n",
    "y=np.array([64, 66, 56, 24, 73, 0])"
   ]
  },
  {
   "cell_type": "code",
   "execution_count": 82,
   "id": "dbd020d1",
   "metadata": {},
   "outputs": [
    {
     "data": {
      "text/plain": [
       "array([100, 100, 100, 100, 100, 100])"
      ]
     },
     "execution_count": 82,
     "metadata": {},
     "output_type": "execute_result"
    }
   ],
   "source": [
    "add(x,y)"
   ]
  },
  {
   "cell_type": "code",
   "execution_count": 83,
   "id": "f42b7288",
   "metadata": {},
   "outputs": [
    {
     "data": {
      "text/plain": [
       "array([-28, -32, -12,  52, -46, 100])"
      ]
     },
     "execution_count": 83,
     "metadata": {},
     "output_type": "execute_result"
    }
   ],
   "source": [
    "subtract(x,y)"
   ]
  },
  {
   "cell_type": "code",
   "execution_count": 84,
   "id": "8d7fbaa1",
   "metadata": {},
   "outputs": [
    {
     "ename": "TypeError",
     "evalue": "subtract() got an unexpected keyword argument 'key'",
     "output_type": "error",
     "traceback": [
      "\u001b[1;31m---------------------------------------------------------------------------\u001b[0m",
      "\u001b[1;31mTypeError\u001b[0m                                 Traceback (most recent call last)",
      "Cell \u001b[1;32mIn[84], line 1\u001b[0m\n\u001b[1;32m----> 1\u001b[0m \u001b[43msubtract\u001b[49m\u001b[43m(\u001b[49m\u001b[43mx\u001b[49m\u001b[43m,\u001b[49m\u001b[43my\u001b[49m\u001b[43m,\u001b[49m\u001b[43m \u001b[49m\u001b[43mkey\u001b[49m\u001b[38;5;241;43m=\u001b[39;49m\u001b[38;5;28;43;01mlambda\u001b[39;49;00m\u001b[43m \u001b[49m\u001b[43ma\u001b[49m\u001b[43m:\u001b[49m\u001b[43m \u001b[49m\u001b[43ma\u001b[49m\u001b[43m[\u001b[49m\u001b[38;5;241;43m3\u001b[39;49m\u001b[43m]\u001b[49m\u001b[43m)\u001b[49m         \u001b[38;5;66;03m# How do I add the lambda function to retrieve the 3rd variable, for instance?\u001b[39;00m\n\u001b[0;32m      2\u001b[0m                                           \u001b[38;5;66;03m# how do I add a function to retrieve all the positive values(4th element)\u001b[39;00m\n",
      "\u001b[1;31mTypeError\u001b[0m: subtract() got an unexpected keyword argument 'key'"
     ]
    }
   ],
   "source": [
    "subtract(x,y, key=lambda a: a[3])         # How do I add the lambda function to retrieve the 3rd variable, for instance?\n",
    "                                          # how do I add a function to retrieve all the positive values(4th element)"
   ]
  },
  {
   "cell_type": "code",
   "execution_count": 85,
   "id": "38fc2c32",
   "metadata": {},
   "outputs": [
    {
     "data": {
      "text/plain": [
       "array([2304, 2244, 2464, 1824, 1971,    0])"
      ]
     },
     "execution_count": 85,
     "metadata": {},
     "output_type": "execute_result"
    }
   ],
   "source": [
    "multiply(x,y)"
   ]
  },
  {
   "cell_type": "code",
   "execution_count": 86,
   "id": "d4fe8b6a",
   "metadata": {},
   "outputs": [
    {
     "data": {
      "text/plain": [
       "'error'"
      ]
     },
     "execution_count": 86,
     "metadata": {},
     "output_type": "execute_result"
    }
   ],
   "source": [
    "divide(x,y)"
   ]
  },
  {
   "cell_type": "code",
   "execution_count": 87,
   "id": "fe8c4501",
   "metadata": {},
   "outputs": [
    {
     "name": "stdout",
     "output_type": "stream",
     "text": [
      "False True\n",
      "True True\n",
      "False False\n"
     ]
    }
   ],
   "source": [
    "arr_1 = np.array([0,1,2,3,4])             #illustration on what 'all()' and 'any()' does\n",
    "arr_2 = np.array([1,2,3,4,5])\n",
    "arr_3 = np.array([0,0,0,0,0])\n",
    "\n",
    "print(arr_1.all(), arr_1.any())\n",
    "print(arr_2.all(), arr_2.any())\n",
    "print(arr_3.all(), arr_3.any())"
   ]
  },
  {
   "cell_type": "markdown",
   "id": "c748741e",
   "metadata": {},
   "source": [
    "## Exercise 3 :  max_info() with NumPy"
   ]
  },
  {
   "cell_type": "code",
   "execution_count": null,
   "id": "93dd921d",
   "metadata": {},
   "outputs": [],
   "source": [
    "\n",
    "\n",
    "\n",
    "# Your solution here\n",
    "\n",
    "\n"
   ]
  }
 ],
 "metadata": {
  "kernelspec": {
   "display_name": "Python 3 (ipykernel)",
   "language": "python",
   "name": "python3"
  },
  "language_info": {
   "codemirror_mode": {
    "name": "ipython",
    "version": 3
   },
   "file_extension": ".py",
   "mimetype": "text/x-python",
   "name": "python",
   "nbconvert_exporter": "python",
   "pygments_lexer": "ipython3",
   "version": "3.10.8"
  },
  "toc": {
   "base_numbering": 1,
   "nav_menu": {},
   "number_sections": true,
   "sideBar": true,
   "skip_h1_title": false,
   "title_cell": "Table of Contents",
   "title_sidebar": "Contents",
   "toc_cell": false,
   "toc_position": {},
   "toc_section_display": true,
   "toc_window_display": false
  },
  "varInspector": {
   "cols": {
    "lenName": 16,
    "lenType": 16,
    "lenVar": 40
   },
   "kernels_config": {
    "python": {
     "delete_cmd_postfix": "",
     "delete_cmd_prefix": "del ",
     "library": "var_list.py",
     "varRefreshCmd": "print(var_dic_list())"
    },
    "r": {
     "delete_cmd_postfix": ") ",
     "delete_cmd_prefix": "rm(",
     "library": "var_list.r",
     "varRefreshCmd": "cat(var_dic_list()) "
    }
   },
   "types_to_exclude": [
    "module",
    "function",
    "builtin_function_or_method",
    "instance",
    "_Feature"
   ],
   "window_display": false
  },
  "vscode": {
   "interpreter": {
    "hash": "31f2aee4e71d21fbe5cf8b01ff0e069b9275f58929596ceb00d14d90e3e16cd6"
   }
  }
 },
 "nbformat": 4,
 "nbformat_minor": 5
}
