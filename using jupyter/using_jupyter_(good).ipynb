{
 "cells": [
  {
   "cell_type": "markdown",
   "id": "123456",
   "metadata": {},
   "source": [
    "<div style=\"text-align:left;font-size:2em\"><span style=\"font-weight:bolder;font-size:1.25em\">SP2273 | Learning Portfolio</span><br><br><span style=\"font-weight:bold;color:darkred\">Using Jupyter (Good)</span></div>"
   ]
  },
  {
   "cell_type": "markdown",
   "id": "a3a71772",
   "metadata": {},
   "source": [
    "## 1 Some tips and tricks"
   ]
  },
  {
   "cell_type": "markdown",
   "id": "cbaebfe3",
   "metadata": {},
   "source": [
    "### 1.1 Keyboard Shortcuts"
   ]
  },
  {
   "cell_type": "markdown",
   "id": "afd1dd3f",
   "metadata": {},
   "source": [
    "\n",
    "help\n",
    "\n",
    "1"
   ]
  },
  {
   "cell_type": "markdown",
   "id": "a0fca3ff",
   "metadata": {},
   "source": [
    " If you are unsure about the keyboard shortcuts or want to edit them, you have to use esc H to view the shortcut configurations for your computer"
   ]
  },
  {
   "cell_type": "markdown",
   "id": "fafbcb69",
   "metadata": {},
   "source": [
    "\\\\$a^2\\$"
   ]
  },
  {
   "cell_type": "markdown",
   "id": "045128c6",
   "metadata": {},
   "source": [
    "To key in an escape sequence(for example to allow JN to recognise a hastag as an actual hastage but not a header), use 2 backslashes"
   ]
  },
  {
   "cell_type": "markdown",
   "id": "cd8c946f",
   "metadata": {},
   "source": []
  },
  {
   "cell_type": "markdown",
   "id": "349e475d",
   "metadata": {},
   "source": [
    "### 1.2 Shell commands"
   ]
  },
  {
   "cell_type": "code",
   "execution_count": 1,
   "id": "2bff6230",
   "metadata": {},
   "outputs": [
    {
     "name": "stdout",
     "output_type": "stream",
     "text": [
      "C:\\Users\\Khai Tjie\\Desktop\\University\\Curriculum\\SP2273\\learning-portfolio-angrykaikai\\using jupyter\n"
     ]
    }
   ],
   "source": [
    "\n",
    "!cd\n",
    "# changing directory"
   ]
  },
  {
   "cell_type": "code",
   "execution_count": 2,
   "id": "3414e999",
   "metadata": {},
   "outputs": [
    {
     "name": "stdout",
     "output_type": "stream",
     "text": [
      " Volume in drive C is OS\n",
      " Volume Serial Number is D69A-3E0E\n",
      "\n",
      " Directory of C:\\Users\\Khai Tjie\\Desktop\\University\\Curriculum\\SP2273\\learning-portfolio-angrykaikai\\using jupyter\n",
      "\n",
      "13/01/2023  10:45 AM    <DIR>          .\n",
      "13/01/2023  10:15 AM    <DIR>          ..\n",
      "13/01/2023  10:18 AM    <DIR>          .ipynb_checkpoints\n",
      "13/01/2023  10:20 AM             1,505 Testing 1.ipynb\n",
      "13/01/2023  10:45 AM             6,249 using_jupyter_(good).ipynb\n",
      "10/01/2023  09:01 AM             4,599 using_jupyter_(need).ipynb\n",
      "               3 File(s)         12,353 bytes\n",
      "               3 Dir(s)   2,769,186,816 bytes free\n"
     ]
    }
   ],
   "source": [
    "!dir"
   ]
  },
  {
   "cell_type": "markdown",
   "id": "68b2bcf1",
   "metadata": {},
   "source": [
    "## 2 Jupyter Extensions"
   ]
  },
  {
   "cell_type": "markdown",
   "id": "b7d22423",
   "metadata": {},
   "source": [
    "### 2.1 Installing the extensions"
   ]
  },
  {
   "cell_type": "code",
   "execution_count": 3,
   "id": "c7541e14",
   "metadata": {},
   "outputs": [],
   "source": [
    "#use the terminal(anaconda prompt)"
   ]
  },
  {
   "cell_type": "markdown",
   "id": "1767592a",
   "metadata": {},
   "source": [
    "### 2.2 Enabling the extensions"
   ]
  },
  {
   "cell_type": "code",
   "execution_count": 4,
   "id": "52c976d1",
   "metadata": {
    "code_folding": []
   },
   "outputs": [],
   "source": [
    "# All 5 extensions enabled. I am now able to view them"
   ]
  },
  {
   "cell_type": "markdown",
   "id": "a000a8d6",
   "metadata": {},
   "source": [
    "## 3 Shell Magic"
   ]
  },
  {
   "cell_type": "code",
   "execution_count": 10,
   "id": "986175be",
   "metadata": {
    "scrolled": false
   },
   "outputs": [
    {
     "name": "stdout",
     "output_type": "stream",
     "text": [
      "20.6 ns ± 3.25 ns per loop (mean ± std. dev. of 7 runs, 10,000,000 loops each)\n"
     ]
    }
   ],
   "source": [
    "%timeit x = 10"
   ]
  },
  {
   "cell_type": "markdown",
   "id": "b8a4241c",
   "metadata": {},
   "source": [
    "## 4 The Kernel"
   ]
  },
  {
   "cell_type": "code",
   "execution_count": 6,
   "id": "4b242bbe",
   "metadata": {},
   "outputs": [],
   "source": [
    "#Do not just close the tab. You have to use ctrl C to shut down the notebooks"
   ]
  },
  {
   "cell_type": "markdown",
   "id": "726fad35",
   "metadata": {},
   "source": [
    "## Exercise 1 :  A new shortcut"
   ]
  },
  {
   "cell_type": "code",
   "execution_count": 8,
   "id": "04e4a333",
   "metadata": {},
   "outputs": [],
   "source": [
    "#reconfigure the shortcuts using ctrl H>edit shortcuts(remember that esc is the default button)\n",
    "#use a comma to indicate consecutive presses\n",
    "#use ctrl F to find your desired command\n",
    "#if a character is already used in another command(even in a consecutive press), you cannot reuse it in another command\n",
    "#managed to use both shortcuts specified in exercise 1"
   ]
  },
  {
   "cell_type": "code",
   "execution_count": 11,
   "id": "7e2d4533",
   "metadata": {},
   "outputs": [],
   "source": [
    "x = 10"
   ]
  },
  {
   "cell_type": "code",
   "execution_count": null,
   "id": "ff16d1aa",
   "metadata": {},
   "outputs": [],
   "source": []
  }
 ],
 "metadata": {
  "kernelspec": {
   "display_name": "Python 3 (ipykernel)",
   "language": "python",
   "name": "python3"
  },
  "language_info": {
   "codemirror_mode": {
    "name": "ipython",
    "version": 3
   },
   "file_extension": ".py",
   "mimetype": "text/x-python",
   "name": "python",
   "nbconvert_exporter": "python",
   "pygments_lexer": "ipython3",
   "version": "3.10.8"
  },
  "toc": {
   "base_numbering": 1,
   "nav_menu": {},
   "number_sections": true,
   "sideBar": true,
   "skip_h1_title": false,
   "title_cell": "Table of Contents",
   "title_sidebar": "Contents",
   "toc_cell": false,
   "toc_position": {
    "height": "calc(100% - 180px)",
    "left": "10px",
    "top": "150px",
    "width": "165px"
   },
   "toc_section_display": true,
   "toc_window_display": false
  },
  "varInspector": {
   "cols": {
    "lenName": 16,
    "lenType": 16,
    "lenVar": 40
   },
   "kernels_config": {
    "python": {
     "delete_cmd_postfix": "",
     "delete_cmd_prefix": "del ",
     "library": "var_list.py",
     "varRefreshCmd": "print(var_dic_list())"
    },
    "r": {
     "delete_cmd_postfix": ") ",
     "delete_cmd_prefix": "rm(",
     "library": "var_list.r",
     "varRefreshCmd": "cat(var_dic_list()) "
    }
   },
   "types_to_exclude": [
    "module",
    "function",
    "builtin_function_or_method",
    "instance",
    "_Feature"
   ],
   "window_display": false
  },
  "vscode": {
   "interpreter": {
    "hash": "31f2aee4e71d21fbe5cf8b01ff0e069b9275f58929596ceb00d14d90e3e16cd6"
   }
  }
 },
 "nbformat": 4,
 "nbformat_minor": 5
}
