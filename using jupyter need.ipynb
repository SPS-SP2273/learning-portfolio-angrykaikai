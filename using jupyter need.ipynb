{
 "cells": [
  {
   "cell_type": "code",
   "execution_count": 1,
   "id": "f6c2654e",
   "metadata": {},
   "outputs": [
    {
     "name": "stdout",
     "output_type": "stream",
     "text": [
      "Hello World!\n"
     ]
    }
   ],
   "source": [
    "print('Hello World!')"
   ]
  },
  {
   "cell_type": "markdown",
   "id": "e6e05715",
   "metadata": {},
   "source": [
    "The ships hung in the sky in much the same way that bricks don’t."
   ]
  },
  {
   "cell_type": "markdown",
   "id": "b4407ffe",
   "metadata": {},
   "source": [
    "The ships hung *in the sky* in much the same way that **bricks don’t**. <sup>1</sup><sub>QUOTE</sub>"
   ]
  },
  {
   "cell_type": "markdown",
   "id": "5e270819",
   "metadata": {},
   "source": [
    "`print('hello world')`"
   ]
  },
  {
   "cell_type": "markdown",
   "id": "c59a615e",
   "metadata": {},
   "source": [
    "[calendar](https://calendar.google.com/calendar/u/0/r/week)"
   ]
  },
  {
   "attachments": {},
   "cell_type": "markdown",
   "id": "70289c06",
   "metadata": {},
   "source": [
    "![](![full_aeroad-cf-sl-7_c1277.png](attachment:full_aeroad-cf-sl-7_c1277.png))"
   ]
  },
  {
   "cell_type": "markdown",
   "id": "438e6bf3",
   "metadata": {},
   "source": [
    "![](data:image/jpeg;base64,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)"
   ]
  },
  {
   "cell_type": "markdown",
   "id": "153ba38b",
   "metadata": {},
   "source": [
    "![](full_aeroad-cf-sl-7_c1277.png)\n",
    "\n",
    "\n"
   ]
  },
  {
   "cell_type": "code",
   "execution_count": 17,
   "id": "727c508b",
   "metadata": {},
   "outputs": [
    {
     "name": "stdout",
     "output_type": "stream",
     "text": [
      "hello\n"
     ]
    }
   ],
   "source": [
    "print(\"hello\")"
   ]
  },
  {
   "cell_type": "markdown",
   "id": "3f275386",
   "metadata": {},
   "source": [
    "| A    |  B   |    C |\n",
    "| :--- | :--: | ---: |\n",
    "| a1   |  b1  |   c1 |\n",
    "| a2   |  b2  |   c2 |\n",
    "| a3   |  b3  |   c3 |"
   ]
  },
  {
   "cell_type": "markdown",
   "id": "a1ef3e82",
   "metadata": {},
   "source": [
    "1. Master Yoda\n",
    "1. Luke Skywalker\n",
    "1. Anakin Skywalker"
   ]
  },
  {
   "cell_type": "markdown",
   "id": "6fc7a485",
   "metadata": {},
   "source": [
    "- Master Yoda\n",
    "- Luke Skywalker\n",
    "- Anakin Skywalker"
   ]
  },
  {
   "cell_type": "markdown",
   "id": "2d0d9ab4",
   "metadata": {},
   "source": [
    "1. Master Yoda\n",
    "   1. Was a Jedi\n",
    "   1. Was a bit green\n",
    "1. Luke Skywalker\n",
    "   1. Was a Jedi\n",
    "   1. Is Anakin's son.\n",
    "1. Anakin Skywalker\n",
    "   1. Was a Jedi then became a baddie\n",
    "   1. Is famous for saying 'Luke, I am your father'"
   ]
  },
  {
   "cell_type": "markdown",
   "id": "0f3c11f1",
   "metadata": {},
   "source": [
    "1. Master Yoda\n",
    "   - Was a Jedi\n",
    "   - Was a bit green\n",
    "2. Luke Skywalker\n",
    "   - Was a Jedi\n",
    "   - Is Anakin's son.\n",
    "3. Anakin Skywalker\n",
    "   - Was a Jedi then became a baddie\n",
    "   - Is famous for saying 'Luke, I am your father'"
   ]
  },
  {
   "cell_type": "markdown",
   "id": "3b4b264a",
   "metadata": {},
   "source": [
    "$\\sqrt{b^2-4ac}$"
   ]
  },
  {
   "cell_type": "markdown",
   "id": "2e000421",
   "metadata": {},
   "source": [
    "$$\n",
    "x = \\dfrac{-b \\pm \\sqrt{b^2-4ac}}{2a}\n",
    "$$"
   ]
  },
  {
   "cell_type": "markdown",
   "id": "c0d85acb",
   "metadata": {},
   "source": [
    "**Quadratic Equations**"
   ]
  },
  {
   "cell_type": "markdown",
   "id": "93385084",
   "metadata": {},
   "source": [
    "![](https://upload.wikimedia.org/wikipedia/commons/thumb/f/f8/Polynomialdeg2.svg/450px-Polynomialdeg2.svg.png)"
   ]
  },
  {
   "cell_type": "markdown",
   "id": "b6417742",
   "metadata": {},
   "source": [
    "**Introduction**"
   ]
  },
  {
   "cell_type": "markdown",
   "id": "fa7b62ad",
   "metadata": {},
   "source": [
    "The general form of a quadratic equation is:"
   ]
  },
  {
   "cell_type": "markdown",
   "id": "7a989ba9",
   "metadata": {},
   "source": [
    "*ax*<sup>2</sup>+*bx*+c=0"
   ]
  },
  {
   "cell_type": "markdown",
   "id": "0516af14",
   "metadata": {},
   "source": [
    "**Solutions** Provided $a \\ne 0$, we can use an elementary algebraic method called [completing the square](https://en.wikipedia.org/wiki/Quadratic_equation) to show that a quadratic equation has the following solution:"
   ]
  },
  {
   "cell_type": "markdown",
   "id": "782c58c2",
   "metadata": {},
   "source": [
    "$$\n",
    "x = \\dfrac{-b \\pm \\sqrt{b^2-4ac}}{2a}\n",
    "$$"
   ]
  },
  {
   "cell_type": "markdown",
   "id": "fdc9c28e",
   "metadata": {},
   "source": [
    "**Discriminant**"
   ]
  },
  {
   "cell_type": "markdown",
   "id": "94a68abe",
   "metadata": {},
   "source": [
    "The quantity $\\Delta=b^2-4ac$ is called the **discriminant** of the equation and decides the nature of its solutions. The table below shows the various possibilities."
   ]
  },
  {
   "cell_type": "markdown",
   "id": "b7455eb4",
   "metadata": {},
   "source": [
    "| Discriminant  |  Roots   |\n",
    "| :---: | :--: |\n",
    "| $$\\Delta=b^2-4ac=0$$   |   a single solution of $$-b/(2a)$$  |\n",
    "| $$\\Delta=b^2-4ac>0$$   |  Two distinct solutions |\n",
    "| $$\\Delta=b^2-4ac<0$$    |  No real solutions; both are complex. |"
   ]
  },
  {
   "cell_type": "markdown",
   "id": "c37c0770",
   "metadata": {},
   "source": [
    "A repository is a place where my code is stored"
   ]
  },
  {
   "cell_type": "markdown",
   "id": "561fe5ba",
   "metadata": {},
   "source": [
    "Git keeps track of changes in the files in my repository"
   ]
  },
  {
   "cell_type": "markdown",
   "id": "826a82ae",
   "metadata": {},
   "source": [
    "A commit is saving my changes to Git desktop\n",
    "\n",
    "A push is syncing those changes to the Git repository\n",
    "\n",
    "Github is an online cloud or database while Github desktop serves as a copy of that database on my computer"
   ]
  },
  {
   "cell_type": "markdown",
   "id": "203c9afb",
   "metadata": {},
   "source": [
    "Possibly 'pulling' data from Github"
   ]
  },
  {
   "cell_type": "code",
   "execution_count": null,
   "id": "a7da2179",
   "metadata": {},
   "outputs": [],
   "source": []
  }
 ],
 "metadata": {
  "kernelspec": {
   "display_name": "Python 3 (ipykernel)",
   "language": "python",
   "name": "python3"
  },
  "language_info": {
   "codemirror_mode": {
    "name": "ipython",
    "version": 3
   },
   "file_extension": ".py",
   "mimetype": "text/x-python",
   "name": "python",
   "nbconvert_exporter": "python",
   "pygments_lexer": "ipython3",
   "version": "3.10.8"
  }
 },
 "nbformat": 4,
 "nbformat_minor": 5
}
