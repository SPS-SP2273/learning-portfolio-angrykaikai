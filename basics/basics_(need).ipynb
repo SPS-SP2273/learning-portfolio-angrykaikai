{
 "cells": [
  {
   "cell_type": "markdown",
   "id": "123456",
   "metadata": {},
   "source": [
    "<div style=\"text-align:left;font-size:2em\"><span style=\"font-weight:bolder;font-size:1.25em\">SP2273 | Learning Portfolio</span><br><br><span style=\"font-weight:bold;color:darkred\">Basics (Need)</span></div>"
   ]
  },
  {
   "cell_type": "markdown",
   "id": "44d07331",
   "metadata": {},
   "source": [
    "## 1 Some Python Basics"
   ]
  },
  {
   "cell_type": "markdown",
   "id": "ebfece96",
   "metadata": {},
   "source": [
    "### 1.1 Functions"
   ]
  },
  {
   "cell_type": "code",
   "execution_count": 1,
   "id": "6598322f",
   "metadata": {},
   "outputs": [
    {
     "ename": "SyntaxError",
     "evalue": "invalid syntax (4270617950.py, line 1)",
     "output_type": "error",
     "traceback": [
      "\u001b[1;36m  Cell \u001b[1;32mIn[1], line 1\u001b[1;36m\u001b[0m\n\u001b[1;33m    print('Hello world!') print('Hello World again')\u001b[0m\n\u001b[1;37m                          ^\u001b[0m\n\u001b[1;31mSyntaxError\u001b[0m\u001b[1;31m:\u001b[0m invalid syntax\n"
     ]
    }
   ],
   "source": [
    "\n",
    "print('Hello world!') print('Hello World again') #python runs line by line, so another print statement has to be written on another line"
   ]
  },
  {
   "cell_type": "code",
   "execution_count": 4,
   "id": "935fb4a2",
   "metadata": {},
   "outputs": [
    {
     "name": "stdout",
     "output_type": "stream",
     "text": [
      "Hello world!\n",
      "Hello World again\n"
     ]
    }
   ],
   "source": [
    "\n",
    "print('Hello world!') \n",
    "print('Hello World again') #python runs line by line, so another print statement has to be written on another line"
   ]
  },
  {
   "cell_type": "markdown",
   "id": "5cb951f1",
   "metadata": {},
   "source": [
    "### 1.2 Python is interpreted"
   ]
  },
  {
   "cell_type": "code",
   "execution_count": 2,
   "id": "e43a7b65",
   "metadata": {},
   "outputs": [
    {
     "name": "stdout",
     "output_type": "stream",
     "text": [
      "Hello World\n",
      "Hello World again\n"
     ]
    }
   ],
   "source": [
    "print('Hello World')\n",
    "print('Hello World again')"
   ]
  },
  {
   "cell_type": "markdown",
   "id": "22bbcd82",
   "metadata": {},
   "source": [
    "### 1.3 Python is sensitive."
   ]
  },
  {
   "cell_type": "code",
   "execution_count": 3,
   "id": "85ec3593",
   "metadata": {},
   "outputs": [
    {
     "name": "stdout",
     "output_type": "stream",
     "text": [
      "Hello World\n"
     ]
    },
    {
     "ename": "NameError",
     "evalue": "name 'Print' is not defined",
     "output_type": "error",
     "traceback": [
      "\u001b[1;31m---------------------------------------------------------------------------\u001b[0m",
      "\u001b[1;31mNameError\u001b[0m                                 Traceback (most recent call last)",
      "Cell \u001b[1;32mIn[3], line 2\u001b[0m\n\u001b[0;32m      1\u001b[0m \u001b[38;5;28mprint\u001b[39m(\u001b[38;5;124m'\u001b[39m\u001b[38;5;124mHello World\u001b[39m\u001b[38;5;124m'\u001b[39m)      \u001b[38;5;66;03m# This WILL work\u001b[39;00m\n\u001b[1;32m----> 2\u001b[0m \u001b[43mPrint\u001b[49m(\u001b[38;5;124m'\u001b[39m\u001b[38;5;124mHello World\u001b[39m\u001b[38;5;124m'\u001b[39m)      \u001b[38;5;66;03m# This will NOT work\u001b[39;00m\n",
      "\u001b[1;31mNameError\u001b[0m: name 'Print' is not defined"
     ]
    }
   ],
   "source": [
    "print('Hello World')      # This WILL work\n",
    "Print('Hello World')      # This will NOT work"
   ]
  },
  {
   "cell_type": "markdown",
   "id": "5d408d39",
   "metadata": {},
   "source": [
    "### 1.4 Comments"
   ]
  },
  {
   "cell_type": "code",
   "execution_count": 5,
   "id": "c388424c",
   "metadata": {},
   "outputs": [
    {
     "name": "stdout",
     "output_type": "stream",
     "text": [
      "Hello world\n"
     ]
    }
   ],
   "source": [
    "print(\"Hello world\" )     # Printing \"Hello World.\" This is an example of an unnecessary comment"
   ]
  },
  {
   "cell_type": "code",
   "execution_count": 2,
   "id": "8fb7c5f4",
   "metadata": {},
   "outputs": [
    {
     "name": "stdout",
     "output_type": "stream",
     "text": [
      "One\n"
     ]
    },
    {
     "data": {
      "text/plain": [
       "'Three'"
      ]
     },
     "execution_count": 2,
     "metadata": {},
     "output_type": "execute_result"
    }
   ],
   "source": [
    "# This is a comment\n",
    "print('One')              # This is a comment.\n",
    "# print('Two')            # The interpreter ignores this line.\n",
    "'Three'           # not including the function 'print' causes python to intepret it as an input.\n",
    "# the difference is that if it is an output, there will be the word 'out' displayed and the word 'Three' will be within inverted commas"
   ]
  },
  {
   "cell_type": "code",
   "execution_count": 3,
   "id": "e03c2fe2",
   "metadata": {},
   "outputs": [
    {
     "name": "stdout",
     "output_type": "stream",
     "text": [
      "One\n",
      "Three\n"
     ]
    }
   ],
   "source": [
    "# This is a comment\n",
    "print('One')              # This is a comment.\n",
    "# print('Two')            # The interpreter ignores this line.\n",
    "print('Three')            # This is\n",
    "                          # also a way to\n",
    "                          # write comments"
   ]
  },
  {
   "cell_type": "markdown",
   "id": "f0228483",
   "metadata": {},
   "source": [
    "### 1.5 = is not the same as =="
   ]
  },
  {
   "cell_type": "code",
   "execution_count": 10,
   "id": "f2ec8d72",
   "metadata": {},
   "outputs": [
    {
     "name": "stdout",
     "output_type": "stream",
     "text": [
      "True\n",
      "False\n"
     ]
    }
   ],
   "source": [
    "name = 'Batman'            # Make name carry 'Batman'\n",
    "print(name == 'Batman')           # Tell me if name is equal to 'Batman'?\n",
    "                           # Answer:  True or False\n",
    "print(name == 'aquaman')   # Jupyter will only tell you whether the last line is true/false.\n",
    "                           # if you want to refer to previous lines, you have to print it(as shown)"
   ]
  },
  {
   "cell_type": "markdown",
   "id": "4f736491",
   "metadata": {},
   "source": [
    "### 1.6 Use if to make decisions"
   ]
  },
  {
   "cell_type": "code",
   "execution_count": 7,
   "id": "1b9f7eb1",
   "metadata": {},
   "outputs": [
    {
     "data": {
      "text/plain": [
       "False"
      ]
     },
     "execution_count": 7,
     "metadata": {},
     "output_type": "execute_result"
    }
   ],
   "source": [
    "name = 'Batman'\n",
    "name == \"batman\""
   ]
  },
  {
   "cell_type": "code",
   "execution_count": 11,
   "id": "3e8acf7f",
   "metadata": {},
   "outputs": [
    {
     "name": "stdout",
     "output_type": "stream",
     "text": [
      "Hello Hero | Batman!\n"
     ]
    }
   ],
   "source": [
    "name = 'Batman'\n",
    "\n",
    "if name == 'Batman':\n",
    "    print('Hello Hero | Batman!')\n",
    "else:\n",
    "    print('Hello World!')"
   ]
  },
  {
   "cell_type": "code",
   "execution_count": 12,
   "id": "30c2cd0e",
   "metadata": {},
   "outputs": [
    {
     "name": "stdout",
     "output_type": "stream",
     "text": [
      "Hello World!\n"
     ]
    }
   ],
   "source": [
    "name = 'Aquaman'   \n",
    "\n",
    "if name == 'Batman':\n",
    "    print('Hello Hero | Batman!')   # note the use of indentations to input the command\n",
    "else:\n",
    "    print('Hello World!')"
   ]
  },
  {
   "cell_type": "markdown",
   "id": "dc57b661",
   "metadata": {},
   "source": [
    "### 1.7 Indentations (spaces) are sooo IMPORTANT!"
   ]
  },
  {
   "cell_type": "code",
   "execution_count": 13,
   "id": "86c6612c",
   "metadata": {},
   "outputs": [
    {
     "name": "stdout",
     "output_type": "stream",
     "text": [
      "10\n"
     ]
    }
   ],
   "source": [
    "x = 10\n",
    "print(x)"
   ]
  },
  {
   "cell_type": "code",
   "execution_count": 15,
   "id": "ebe866e0",
   "metadata": {},
   "outputs": [
    {
     "ename": "IndentationError",
     "evalue": "unexpected indent (1541909958.py, line 2)",
     "output_type": "error",
     "traceback": [
      "\u001b[1;36m  Cell \u001b[1;32mIn[15], line 2\u001b[1;36m\u001b[0m\n\u001b[1;33m    print(x) #indentation confuses python because it is usually used to indicate a block of code in functions\u001b[0m\n\u001b[1;37m    ^\u001b[0m\n\u001b[1;31mIndentationError\u001b[0m\u001b[1;31m:\u001b[0m unexpected indent\n"
     ]
    }
   ],
   "source": [
    "x = 10\n",
    " print(x) #indentation confuses python because it is usually used to indicate a block of code in functions\n",
    "    # do not confuse indents and spaces"
   ]
  },
  {
   "cell_type": "markdown",
   "id": "97d176ee",
   "metadata": {},
   "source": [
    "### 1.8 ‘age’ is English, age is a variable."
   ]
  },
  {
   "cell_type": "code",
   "execution_count": 16,
   "id": "66b430ba",
   "metadata": {},
   "outputs": [
    {
     "name": "stdout",
     "output_type": "stream",
     "text": [
      "5.0\n",
      "cap\n"
     ]
    }
   ],
   "source": [
    "cap = 5.0\n",
    "print(cap) # know the difference between typing english and indicating a variable\n",
    "print(\"cap\")"
   ]
  },
  {
   "cell_type": "code",
   "execution_count": 9,
   "id": "46327d3c",
   "metadata": {},
   "outputs": [
    {
     "ename": "SyntaxError",
     "evalue": "invalid syntax (3418578730.py, line 1)",
     "output_type": "error",
     "traceback": [
      "\u001b[1;36m  Cell \u001b[1;32mIn[9], line 1\u001b[1;36m\u001b[0m\n\u001b[1;33m    my cap = 5.0 #the space causes python to recognise it as 2 separate variables.\u001b[0m\n\u001b[1;37m       ^\u001b[0m\n\u001b[1;31mSyntaxError\u001b[0m\u001b[1;31m:\u001b[0m invalid syntax\n"
     ]
    }
   ],
   "source": [
    "my cap = 5.0 #the space causes python to recognise it as 2 separate variables.\n",
    "\n",
    "#For variable names in python, you can use an underscore instead of a space"
   ]
  },
  {
   "cell_type": "code",
   "execution_count": 13,
   "id": "2733ef2e",
   "metadata": {},
   "outputs": [],
   "source": [
    "my_cap =5.0 # this code works"
   ]
  },
  {
   "cell_type": "code",
   "execution_count": 18,
   "id": "8874ca0f",
   "metadata": {},
   "outputs": [
    {
     "name": "stdout",
     "output_type": "stream",
     "text": [
      "s/u\n"
     ]
    }
   ],
   "source": [
    "cap = 3.5\n",
    "if cap == 3.5:\n",
    "    print('s/u')\n",
    "else:\n",
    "    print('do nothing')"
   ]
  },
  {
   "cell_type": "markdown",
   "id": "b5f22b72",
   "metadata": {},
   "source": [
    "### 1.9 Escape sequences"
   ]
  },
  {
   "cell_type": "code",
   "execution_count": 24,
   "id": "dbb592c5",
   "metadata": {},
   "outputs": [
    {
     "name": "stdout",
     "output_type": "stream",
     "text": [
      "You're twenty years old.\n"
     ]
    }
   ],
   "source": [
    "\n",
    "print('You\\'re twenty years old.') # the purpose of the backslash is to prevent JN from confusing the comma for code"
   ]
  },
  {
   "cell_type": "code",
   "execution_count": 25,
   "id": "b784a471",
   "metadata": {},
   "outputs": [
    {
     "ename": "SyntaxError",
     "evalue": "unterminated string literal (detected at line 2) (1239645925.py, line 2)",
     "output_type": "error",
     "traceback": [
      "\u001b[1;36m  Cell \u001b[1;32mIn[25], line 2\u001b[1;36m\u001b[0m\n\u001b[1;33m    print('You're twenty years old.')\u001b[0m\n\u001b[1;37m                                   ^\u001b[0m\n\u001b[1;31mSyntaxError\u001b[0m\u001b[1;31m:\u001b[0m unterminated string literal (detected at line 2)\n"
     ]
    }
   ],
   "source": [
    "# negative example\n",
    "print('You're twenty years old.') "
   ]
  },
  {
   "cell_type": "code",
   "execution_count": 26,
   "id": "4f38b073",
   "metadata": {},
   "outputs": [
    {
     "name": "stdout",
     "output_type": "stream",
     "text": [
      "A\\B\\C\n"
     ]
    }
   ],
   "source": [
    "print('A\\\\B\\\\C') "
   ]
  },
  {
   "cell_type": "code",
   "execution_count": 27,
   "id": "836c7e71",
   "metadata": {},
   "outputs": [
    {
     "name": "stdout",
     "output_type": "stream",
     "text": [
      "A\\B\\C\n"
     ]
    }
   ],
   "source": [
    "print('A\\B\\C')"
   ]
  },
  {
   "cell_type": "code",
   "execution_count": 28,
   "id": "75034684",
   "metadata": {},
   "outputs": [
    {
     "name": "stdout",
     "output_type": "stream",
     "text": [
      "A\n",
      "B\n",
      "C\n"
     ]
    }
   ],
   "source": [
    "print('A\\nB\\nC')# \\n represents a new line"
   ]
  },
  {
   "cell_type": "code",
   "execution_count": 30,
   "id": "dbde3151",
   "metadata": {},
   "outputs": [
    {
     "name": "stdout",
     "output_type": "stream",
     "text": [
      "A\tB\tC\n"
     ]
    }
   ],
   "source": [
    "print('A\\tB\\tC')# \\t represents a horizontal tab"
   ]
  },
  {
   "cell_type": "markdown",
   "id": "2cd908ab",
   "metadata": {},
   "source": [
    "### 1.10 Brackets"
   ]
  },
  {
   "cell_type": "code",
   "execution_count": 31,
   "id": "573eb3c7",
   "metadata": {},
   "outputs": [
    {
     "name": "stdout",
     "output_type": "stream",
     "text": [
      "Hello!\n"
     ]
    }
   ],
   "source": [
    "print('Hello!')             # In functions"
   ]
  },
  {
   "cell_type": "code",
   "execution_count": 32,
   "id": "a5ceb2b8",
   "metadata": {},
   "outputs": [
    {
     "data": {
      "text/plain": [
       "15"
      ]
     },
     "execution_count": 32,
     "metadata": {},
     "output_type": "execute_result"
    }
   ],
   "source": [
    "(1 + 2) * 5                 # For math"
   ]
  },
  {
   "cell_type": "code",
   "execution_count": 3,
   "id": "3064d394",
   "metadata": {},
   "outputs": [],
   "source": [
    "\n",
    "py_list = [1, 2, 3, 4, 5]   # A 1D list\n",
    "\n",
    "py_list_2 = [[1, \"A\"],      # A 2D list\n",
    "             [2, \"B\"],\n",
    "             [3, \"C\"],\n",
    "             [4, \"D\"],\n",
    "             [5, \"E\"]]\n",
    "\n",
    "py_list_2 = [[1, \"A\"],     # am I recreating the 2D list correctly? Is the purpose of a 2D list to prevent the line from getting too long?\n",
    "             [2, \"B\"],]"
   ]
  },
  {
   "cell_type": "code",
   "execution_count": 11,
   "id": "f6154feb",
   "metadata": {},
   "outputs": [],
   "source": [
    "personal_info = {\n",
    "    'Names': 'Batman',\n",
    "    'Real Name': 'Bruce Wayne',\n",
    "    'Age': 55,\n",
    "    'Affiliation': 'Justice League',\n",
    "    'Universe': 'DC'\n",
    "}\n",
    "# curly brackets serve as a dictionary, using a 'key' to retrieve a value"
   ]
  },
  {
   "cell_type": "code",
   "execution_count": 5,
   "id": "18bc3172",
   "metadata": {},
   "outputs": [
    {
     "name": "stdout",
     "output_type": "stream",
     "text": [
      "Bruce Wayne\n"
     ]
    }
   ],
   "source": [
    "print(personal_info['Real Name'])    "
   ]
  },
  {
   "cell_type": "code",
   "execution_count": 6,
   "id": "bc6ef55c",
   "metadata": {},
   "outputs": [
    {
     "name": "stdout",
     "output_type": "stream",
     "text": [
      "real name\n"
     ]
    }
   ],
   "source": [
    "print(\"real name\")"
   ]
  },
  {
   "cell_type": "code",
   "execution_count": 8,
   "id": "5c63be3b",
   "metadata": {},
   "outputs": [
    {
     "name": "stdout",
     "output_type": "stream",
     "text": [
      "55\n"
     ]
    }
   ],
   "source": [
    "print(personal_info['Age'])"
   ]
  },
  {
   "cell_type": "code",
   "execution_count": 10,
   "id": "99ff3e3e",
   "metadata": {},
   "outputs": [
    {
     "name": "stdout",
     "output_type": "stream",
     "text": [
      "Justice League\n"
     ]
    }
   ],
   "source": [
    "print(personal_info['Affiliation'])"
   ]
  },
  {
   "cell_type": "markdown",
   "id": "bdcbe0e3",
   "metadata": {},
   "source": [
    "## 2 Giving Python superpowers"
   ]
  },
  {
   "cell_type": "markdown",
   "id": "48e6381b",
   "metadata": {},
   "source": [
    "### 2.1 Packages"
   ]
  },
  {
   "cell_type": "code",
   "execution_count": 12,
   "id": "91c6c819",
   "metadata": {},
   "outputs": [
    {
     "data": {
      "text/plain": [
       "40.5"
      ]
     },
     "execution_count": 12,
     "metadata": {},
     "output_type": "execute_result"
    }
   ],
   "source": [
    "1 * ((2 - 3) + 4) ** 5 / 6"
   ]
  },
  {
   "cell_type": "code",
   "execution_count": 13,
   "id": "5fa06fb9",
   "metadata": {},
   "outputs": [
    {
     "ename": "NameError",
     "evalue": "name 'sqrt' is not defined",
     "output_type": "error",
     "traceback": [
      "\u001b[1;31m---------------------------------------------------------------------------\u001b[0m",
      "\u001b[1;31mNameError\u001b[0m                                 Traceback (most recent call last)",
      "Cell \u001b[1;32mIn[13], line 1\u001b[0m\n\u001b[1;32m----> 1\u001b[0m \u001b[43msqrt\u001b[49m(\u001b[38;5;241m4\u001b[39m)             \u001b[38;5;66;03m# Will NOT work because basic Python is limited\u001b[39;00m\n",
      "\u001b[1;31mNameError\u001b[0m: name 'sqrt' is not defined"
     ]
    }
   ],
   "source": [
    "sqrt(4)             # Will NOT work because basic Python is limited"
   ]
  },
  {
   "cell_type": "code",
   "execution_count": 14,
   "id": "0fd52ba3",
   "metadata": {},
   "outputs": [],
   "source": [
    "import math         # Adding(importing) the functions\n",
    "                    # of the 'math' package    "
   ]
  },
  {
   "cell_type": "code",
   "execution_count": 15,
   "id": "10a5b5c3",
   "metadata": {},
   "outputs": [
    {
     "data": {
      "text/plain": [
       "2.0"
      ]
     },
     "execution_count": 15,
     "metadata": {},
     "output_type": "execute_result"
    }
   ],
   "source": [
    "math.sqrt(4) # importing the package allows me to use its functions by referencing the package right before my code"
   ]
  },
  {
   "cell_type": "code",
   "execution_count": 16,
   "id": "88fef248",
   "metadata": {},
   "outputs": [],
   "source": [
    "import numpy as np    # Importing Numpy and giving it an alias np\n",
    "                      # because I am lazy"
   ]
  },
  {
   "cell_type": "code",
   "execution_count": 16,
   "id": "9a7e6b0b",
   "metadata": {},
   "outputs": [
    {
     "data": {
      "text/plain": [
       "2.0"
      ]
     },
     "execution_count": 16,
     "metadata": {},
     "output_type": "execute_result"
    }
   ],
   "source": [
    "np.sqrt(4)"
   ]
  },
  {
   "cell_type": "code",
   "execution_count": 17,
   "id": "219dbd5e",
   "metadata": {},
   "outputs": [
    {
     "data": {
      "text/plain": [
       "2.0"
      ]
     },
     "execution_count": 17,
     "metadata": {},
     "output_type": "execute_result"
    }
   ],
   "source": [
    "angry.sqrt(4)"
   ]
  },
  {
   "cell_type": "code",
   "execution_count": 18,
   "id": "917d21ec",
   "metadata": {},
   "outputs": [
    {
     "data": {
      "text/plain": [
       "array([2., 3., 4.])"
      ]
     },
     "execution_count": 18,
     "metadata": {},
     "output_type": "execute_result"
    }
   ],
   "source": [
    "np.sqrt([4, 9, 16]) "
   ]
  },
  {
   "cell_type": "code",
   "execution_count": 19,
   "id": "5bc9c61f",
   "metadata": {},
   "outputs": [
    {
     "ename": "TypeError",
     "evalue": "must be real number, not list",
     "output_type": "error",
     "traceback": [
      "\u001b[1;31m---------------------------------------------------------------------------\u001b[0m",
      "\u001b[1;31mTypeError\u001b[0m                                 Traceback (most recent call last)",
      "Cell \u001b[1;32mIn[19], line 1\u001b[0m\n\u001b[1;32m----> 1\u001b[0m \u001b[43mmath\u001b[49m\u001b[38;5;241;43m.\u001b[39;49m\u001b[43msqrt\u001b[49m\u001b[43m(\u001b[49m\u001b[43m[\u001b[49m\u001b[38;5;241;43m4\u001b[39;49m\u001b[43m,\u001b[49m\u001b[43m \u001b[49m\u001b[38;5;241;43m9\u001b[39;49m\u001b[43m,\u001b[49m\u001b[43m \u001b[49m\u001b[38;5;241;43m16\u001b[39;49m\u001b[43m]\u001b[49m\u001b[43m)\u001b[49m\n",
      "\u001b[1;31mTypeError\u001b[0m: must be real number, not list"
     ]
    }
   ],
   "source": [
    "math.sqrt([4, 9, 16]) #different packages have different capabilites. for example, 'math' cannot handle lists of numbers"
   ]
  },
  {
   "cell_type": "code",
   "execution_count": 14,
   "id": "9d20c5c4",
   "metadata": {},
   "outputs": [],
   "source": [
    "import numpy as angry"
   ]
  },
  {
   "cell_type": "code",
   "execution_count": 15,
   "id": "be54e123",
   "metadata": {},
   "outputs": [
    {
     "data": {
      "text/plain": [
       "2.0"
      ]
     },
     "execution_count": 15,
     "metadata": {},
     "output_type": "execute_result"
    }
   ],
   "source": [
    "angry.sqrt(4)"
   ]
  },
  {
   "cell_type": "code",
   "execution_count": 18,
   "id": "35eaa8fe",
   "metadata": {},
   "outputs": [
    {
     "data": {
      "text/plain": [
       "2.0"
      ]
     },
     "execution_count": 18,
     "metadata": {},
     "output_type": "execute_result"
    }
   ],
   "source": [
    "np.sqrt(4)"
   ]
  },
  {
   "cell_type": "code",
   "execution_count": null,
   "id": "a5a4d8e1",
   "metadata": {},
   "outputs": [],
   "source": []
  },
  {
   "cell_type": "code",
   "execution_count": null,
   "id": "4a68c975",
   "metadata": {},
   "outputs": [],
   "source": []
  },
  {
   "cell_type": "markdown",
   "id": "da8cc537",
   "metadata": {},
   "source": [
    "### 2.2 The dot (.)"
   ]
  },
  {
   "cell_type": "code",
   "execution_count": 25,
   "id": "796c4c57",
   "metadata": {},
   "outputs": [
    {
     "data": {
      "text/plain": [
       "2.0"
      ]
     },
     "execution_count": 25,
     "metadata": {},
     "output_type": "execute_result"
    }
   ],
   "source": [
    "math. sqrt (4) # a dot indicates ownership. In this case, the sqrt function belongs to math and Numpy respectively\n",
    "np. sqrt (4) # the material before the dot represents what it can access, depending on the context"
   ]
  },
  {
   "cell_type": "code",
   "execution_count": 23,
   "id": "786a1bdd",
   "metadata": {},
   "outputs": [
    {
     "data": {
      "text/plain": [
       "['I', 'am', 'Batman']"
      ]
     },
     "execution_count": 23,
     "metadata": {},
     "output_type": "execute_result"
    }
   ],
   "source": [
    "\"I am Batman\".split() #split function causes a sentence to be split into words"
   ]
  },
  {
   "cell_type": "code",
   "execution_count": 24,
   "id": "e2a4d7ed",
   "metadata": {},
   "outputs": [
    {
     "ename": "SyntaxError",
     "evalue": "invalid decimal literal (3897031440.py, line 1)",
     "output_type": "error",
     "traceback": [
      "\u001b[1;36m  Cell \u001b[1;32mIn[24], line 1\u001b[1;36m\u001b[0m\n\u001b[1;33m    1234.split()\u001b[0m\n\u001b[1;37m        ^\u001b[0m\n\u001b[1;31mSyntaxError\u001b[0m\u001b[1;31m:\u001b[0m invalid decimal literal\n"
     ]
    }
   ],
   "source": [
    "1234.split() # split function does not work for numbers"
   ]
  },
  {
   "cell_type": "markdown",
   "id": "bba9c7e1",
   "metadata": {},
   "source": [
    "## Exercise 1 :  Total recall?"
   ]
  },
  {
   "cell_type": "markdown",
   "id": "442c8c1a",
   "metadata": {},
   "source": [
    "Packages can be imported in python to make use of its functions\n",
    "\n",
    "brackets can be used to create lists, including 1D and 2D lists\n",
    "\n",
    "*normal brackets for functions and math, square brackets for lists*\n",
    "\n",
    "curly brackets can be used as a dictionary to link info to keys, which can be accessed later on\n",
    "\n",
    "the = sign can be used to link a value to a variable, then the == can be used to check the content of the value\n",
    "\n",
    "the 'if' and 'else' function can be used to tell python to do things depending on whether something is true or not\n",
    "\n",
    "*Python is case sensitive*\n",
    "\n",
    "*inverted commas allows python to recognise something as english, instead of as a variable*\n",
    "\n",
    "*a dot allows the thing after the dot to be applied to the thing before the dot*"
   ]
  },
  {
   "cell_type": "markdown",
   "id": "84c7aa69",
   "metadata": {},
   "source": [
    "## Exercise 2 :  Debug me"
   ]
  },
  {
   "cell_type": "code",
   "execution_count": 40,
   "id": "9fa7c4a8",
   "metadata": {},
   "outputs": [
    {
     "name": "stdout",
     "output_type": "stream",
     "text": [
      "3 4 5.0\n"
     ]
    }
   ],
   "source": [
    "x, y = 3, 4\n",
    "z = np.sqrt(x**2 + y**2) #recall that ** is used to indicate the superscript\n",
    "print(x, y, z)\n",
    "\n",
    "#why is my z 5.0 and not 5? is it supposed to happen?"
   ]
  },
  {
   "cell_type": "code",
   "execution_count": 19,
   "id": "1429713f",
   "metadata": {},
   "outputs": [
    {
     "name": "stdout",
     "output_type": "stream",
     "text": [
      "3 4 5\n"
     ]
    }
   ],
   "source": [
    "x, y = 3, 4\n",
    "z = np.sqrt(x**2 + y**2) #recall that ** is used to indicate the superscript\n",
    "print(x, y, int(z))\n",
    "\n"
   ]
  },
  {
   "cell_type": "code",
   "execution_count": 42,
   "id": "0eb54175",
   "metadata": {},
   "outputs": [
    {
     "name": "stdout",
     "output_type": "stream",
     "text": [
      "3 4.1 5.080354318352215\n"
     ]
    }
   ],
   "source": [
    "x, y = 3, 4.1\n",
    "z = math.sqrt(x**2 + y**2) #recall that ** is used to indicate the superscript\n",
    "print(x, y, z)\n",
    "\n",
    "#why is my z 5.0 and not 5? is it supposed to happen?"
   ]
  },
  {
   "cell_type": "code",
   "execution_count": null,
   "id": "83667995",
   "metadata": {},
   "outputs": [],
   "source": [
    "#recall that you can use esc C and esc V to copy and paste cells"
   ]
  },
  {
   "cell_type": "markdown",
   "id": "aa21d037",
   "metadata": {},
   "source": [
    "## Exercise 3 :  In your own words"
   ]
  },
  {
   "cell_type": "markdown",
   "id": "4fac1b5f",
   "metadata": {},
   "source": [
    "1\tFunction\t\n",
    "\n",
    "a function is a command for python to implement something with code\n",
    "\n",
    "2\tArguments\n",
    "\n",
    "an argument is what I type into a function\n",
    "\n",
    "3\tComments\t\n",
    "\n",
    "a comment is indicated by # and is not recognised as code\n",
    "\n",
    "4\tIndentations\t\n",
    "\n",
    "an indentation is indicated by a space or tab(is there a difference?) and is used to indicate a separate block of code\n",
    "\n",
    "a tab is made up of 4 spaces. using less than 4 spaces for an indentation will give an error\n",
    "\n",
    "5\tPackages\t\n",
    "\n",
    "a package is like an extension toolbox that contains special functions written into code beforehand. we use packages for the functions that they provide us with and import them using \"import *package*\" we only need to import packages once\n",
    "\n",
    "6\t.\n",
    "\n",
    "whatever comes before the dot is used to apply to what comes after the dot. The thing that comes after the dot is used in the context of what comes before the dot\n",
    "\n"
   ]
  },
  {
   "cell_type": "markdown",
   "id": "da011713",
   "metadata": {},
   "source": [
    "## Exercise 4 :  More than one way to divide"
   ]
  },
  {
   "cell_type": "code",
   "execution_count": 22,
   "id": "06e2e507",
   "metadata": {},
   "outputs": [
    {
     "data": {
      "text/plain": [
       "2.5"
      ]
     },
     "execution_count": 22,
     "metadata": {},
     "output_type": "execute_result"
    }
   ],
   "source": [
    "5/2           # normal division, gives up to 18 characters by default\n"
   ]
  },
  {
   "cell_type": "code",
   "execution_count": 48,
   "id": "6c8ba148",
   "metadata": {},
   "outputs": [
    {
     "data": {
      "text/plain": [
       "3.142857142857143"
      ]
     },
     "execution_count": 48,
     "metadata": {},
     "output_type": "execute_result"
    }
   ],
   "source": [
    "22/7 "
   ]
  },
  {
   "cell_type": "code",
   "execution_count": 45,
   "id": "038341c1",
   "metadata": {},
   "outputs": [
    {
     "data": {
      "text/plain": [
       "2"
      ]
     },
     "execution_count": 45,
     "metadata": {},
     "output_type": "execute_result"
    }
   ],
   "source": [
    "5//2          # double slashes indicate floor division, where the result is rounded down to the nearest integer"
   ]
  },
  {
   "cell_type": "code",
   "execution_count": 47,
   "id": "823d01c5",
   "metadata": {},
   "outputs": [
    {
     "data": {
      "text/plain": [
       "1"
      ]
     },
     "execution_count": 47,
     "metadata": {},
     "output_type": "execute_result"
    }
   ],
   "source": [
    "5%2           # the percent sign gives the result of the remainder after division"
   ]
  },
  {
   "cell_type": "code",
   "execution_count": 20,
   "id": "aaac8691",
   "metadata": {},
   "outputs": [
    {
     "data": {
      "text/plain": [
       "1.3333333333333333"
      ]
     },
     "execution_count": 20,
     "metadata": {},
     "output_type": "execute_result"
    }
   ],
   "source": [
    "4/3 #16 characters after the decimal place, 18 characters by default"
   ]
  },
  {
   "cell_type": "code",
   "execution_count": 21,
   "id": "c74b7eaf",
   "metadata": {},
   "outputs": [
    {
     "data": {
      "text/plain": [
       "13.333333333333334"
      ]
     },
     "execution_count": 21,
     "metadata": {},
     "output_type": "execute_result"
    }
   ],
   "source": [
    "40/3 #15 characters after the decimal place, 18 characters by default"
   ]
  },
  {
   "cell_type": "code",
   "execution_count": null,
   "id": "ff5ff34e",
   "metadata": {},
   "outputs": [],
   "source": []
  }
 ],
 "metadata": {
  "kernelspec": {
   "display_name": "Python 3 (ipykernel)",
   "language": "python",
   "name": "python3"
  },
  "language_info": {
   "codemirror_mode": {
    "name": "ipython",
    "version": 3
   },
   "file_extension": ".py",
   "mimetype": "text/x-python",
   "name": "python",
   "nbconvert_exporter": "python",
   "pygments_lexer": "ipython3",
   "version": "3.10.8"
  },
  "toc": {
   "base_numbering": 1,
   "nav_menu": {},
   "number_sections": true,
   "sideBar": true,
   "skip_h1_title": false,
   "title_cell": "Table of Contents",
   "title_sidebar": "Contents",
   "toc_cell": false,
   "toc_position": {},
   "toc_section_display": true,
   "toc_window_display": false
  },
  "varInspector": {
   "cols": {
    "lenName": 16,
    "lenType": 16,
    "lenVar": 40
   },
   "kernels_config": {
    "python": {
     "delete_cmd_postfix": "",
     "delete_cmd_prefix": "del ",
     "library": "var_list.py",
     "varRefreshCmd": "print(var_dic_list())"
    },
    "r": {
     "delete_cmd_postfix": ") ",
     "delete_cmd_prefix": "rm(",
     "library": "var_list.r",
     "varRefreshCmd": "cat(var_dic_list()) "
    }
   },
   "types_to_exclude": [
    "module",
    "function",
    "builtin_function_or_method",
    "instance",
    "_Feature"
   ],
   "window_display": false
  },
  "vscode": {
   "interpreter": {
    "hash": "31f2aee4e71d21fbe5cf8b01ff0e069b9275f58929596ceb00d14d90e3e16cd6"
   }
  }
 },
 "nbformat": 4,
 "nbformat_minor": 5
}
