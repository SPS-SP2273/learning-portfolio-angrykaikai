{
 "cells": [
  {
   "cell_type": "markdown",
   "id": "123456",
   "metadata": {},
   "source": [
    "<div style=\"text-align:left;font-size:2em\"><span style=\"font-weight:bolder;font-size:1.25em\">SP2273 | Learning Portfolio</span><br><br><span style=\"font-weight:bold;color:darkred\">Just Exercises (I)</span></div>"
   ]
  },
  {
   "cell_type": "markdown",
   "id": "27507b38",
   "metadata": {},
   "source": [
    "## Exercise 1 :  F-strings to the rescue"
   ]
  },
  {
   "cell_type": "code",
   "execution_count": 6,
   "id": "b6999537",
   "metadata": {},
   "outputs": [
    {
     "name": "stdout",
     "output_type": "stream",
     "text": [
      "00001\n",
      "00002\n",
      "00003\n",
      "00004\n",
      "00005\n",
      "00006\n",
      "00007\n",
      "00008\n",
      "00009\n",
      "00010\n"
     ]
    }
   ],
   "source": [
    "for number in range(1,11):\n",
    "    print(f\"{number:05d}\")\n",
    "\n"
   ]
  },
  {
   "cell_type": "code",
   "execution_count": 40,
   "id": "8bbb6bc0",
   "metadata": {},
   "outputs": [
    {
     "name": "stdout",
     "output_type": "stream",
     "text": [
      "001          +\n",
      "002         ++\n",
      "003        +++\n",
      "004       ++++\n",
      "005      +++++\n",
      "006     ++++++\n",
      "007    +++++++\n",
      "008   ++++++++\n",
      "009  +++++++++\n",
      "010 ++++++++++\n"
     ]
    }
   ],
   "source": [
    "for number in range(1,11):\n",
    "    print(f\"{number:03d}\" + ' ' * (11-number) + '+' * number )"
   ]
  },
  {
   "cell_type": "code",
   "execution_count": 42,
   "id": "fdffb6dc",
   "metadata": {},
   "outputs": [
    {
     "name": "stdout",
     "output_type": "stream",
     "text": [
      "001 -+++++++++\n",
      "002 --++++++++\n",
      "003 ---+++++++\n",
      "004 ----++++++\n",
      "005 -----+++++\n",
      "006 ------++++\n",
      "007 -------+++\n",
      "008 --------++\n",
      "009 ---------+\n",
      "010 ----------\n"
     ]
    }
   ],
   "source": [
    "for number in range(1,11):\n",
    "    print(f\"{number:03d} \" + '-' * number + '+' * (10-number) )"
   ]
  },
  {
   "cell_type": "code",
   "execution_count": 43,
   "id": "e9fca092",
   "metadata": {},
   "outputs": [
    {
     "name": "stdout",
     "output_type": "stream",
     "text": [
      "a*****\n",
      "oo\n"
     ]
    }
   ],
   "source": [
    "print(f'a'+ '*' * 5)     # how strings in f-strings work\n",
    "\n",
    "a='o'\n",
    "print(f'{a*2}')"
   ]
  },
  {
   "cell_type": "code",
   "execution_count": 52,
   "id": "66fb4920",
   "metadata": {},
   "outputs": [
    {
     "name": "stdout",
     "output_type": "stream",
     "text": [
      "['bruce_exploits.txt', 'bruce_enemies.txt', 'bruce_friends.txt', 'natasha_exploits.txt', 'natasha_enemies.txt', 'natasha_friends.txt', 'tony_exploits.txt', 'tony_enemies.txt', 'tony_friends.txt']\n"
     ]
    }
   ],
   "source": [
    "X = ['bruce', 'natasha', 'tony']\n",
    "Y = ['exploits', 'enemies', 'friends']\n",
    "\n",
    "\n",
    "eef = []\n",
    "\n",
    "for name in X:\n",
    "    for details in Y:\n",
    "        eef.append(f\"{name}_{details}.txt\")\n",
    "print(eef)        "
   ]
  },
  {
   "cell_type": "code",
   "execution_count": 56,
   "id": "b891dd63",
   "metadata": {
    "code_folding": []
   },
   "outputs": [
    {
     "name": "stdout",
     "output_type": "stream",
     "text": [
      "['data_sg_exp-1_trial_001.txt', 'data_sg_exp-1_trial_002.txt', 'data_sg_exp-1_trial_003.txt', 'data_sg_exp-1_trial_004.txt', 'data_sg_exp-1_trial_005.txt', 'data_sg_exp-1_trial_006.txt', 'data_sg_exp-1_trial_007.txt', 'data_sg_exp-1_trial_008.txt', 'data_sg_exp-1_trial_009.txt', 'data_sg_exp-1_trial_010.txt', 'data_sg_exp-1_trial_011.txt', 'data_sg_exp-1_trial_012.txt', 'data_sg_exp-1_trial_013.txt', 'data_sg_exp-1_trial_014.txt', 'data_sg_exp-1_trial_015.txt', 'data_sg_exp-1_trial_016.txt', 'data_sg_exp-1_trial_017.txt', 'data_sg_exp-1_trial_018.txt', 'data_sg_exp-1_trial_019.txt', 'data_sg_exp-1_trial_020.txt', 'data_sg_exp-1_trial_021.txt', 'data_sg_exp-1_trial_022.txt', 'data_sg_exp-1_trial_023.txt', 'data_sg_exp-1_trial_024.txt', 'data_sg_exp-1_trial_025.txt', 'data_sg_exp-1_trial_026.txt', 'data_sg_exp-1_trial_027.txt', 'data_sg_exp-1_trial_028.txt', 'data_sg_exp-1_trial_029.txt', 'data_sg_exp-1_trial_030.txt', 'data_sg_exp-1_trial_031.txt', 'data_sg_exp-1_trial_032.txt', 'data_sg_exp-1_trial_033.txt', 'data_sg_exp-1_trial_034.txt', 'data_sg_exp-1_trial_035.txt', 'data_sg_exp-1_trial_036.txt', 'data_sg_exp-1_trial_037.txt', 'data_sg_exp-1_trial_038.txt', 'data_sg_exp-1_trial_039.txt', 'data_sg_exp-1_trial_040.txt', 'data_sg_exp-1_trial_041.txt', 'data_sg_exp-1_trial_042.txt', 'data_sg_exp-1_trial_043.txt', 'data_sg_exp-1_trial_044.txt', 'data_sg_exp-1_trial_045.txt', 'data_sg_exp-1_trial_046.txt', 'data_sg_exp-1_trial_047.txt', 'data_sg_exp-1_trial_048.txt', 'data_sg_exp-1_trial_049.txt', 'data_sg_exp-1_trial_050.txt', 'data_sg_exp-2_trial_001.txt', 'data_sg_exp-2_trial_002.txt', 'data_sg_exp-2_trial_003.txt', 'data_sg_exp-2_trial_004.txt', 'data_sg_exp-2_trial_005.txt', 'data_sg_exp-2_trial_006.txt', 'data_sg_exp-2_trial_007.txt', 'data_sg_exp-2_trial_008.txt', 'data_sg_exp-2_trial_009.txt', 'data_sg_exp-2_trial_010.txt', 'data_sg_exp-2_trial_011.txt', 'data_sg_exp-2_trial_012.txt', 'data_sg_exp-2_trial_013.txt', 'data_sg_exp-2_trial_014.txt', 'data_sg_exp-2_trial_015.txt', 'data_sg_exp-2_trial_016.txt', 'data_sg_exp-2_trial_017.txt', 'data_sg_exp-2_trial_018.txt', 'data_sg_exp-2_trial_019.txt', 'data_sg_exp-2_trial_020.txt', 'data_sg_exp-2_trial_021.txt', 'data_sg_exp-2_trial_022.txt', 'data_sg_exp-2_trial_023.txt', 'data_sg_exp-2_trial_024.txt', 'data_sg_exp-2_trial_025.txt', 'data_sg_exp-2_trial_026.txt', 'data_sg_exp-2_trial_027.txt', 'data_sg_exp-2_trial_028.txt', 'data_sg_exp-2_trial_029.txt', 'data_sg_exp-2_trial_030.txt', 'data_sg_exp-2_trial_031.txt', 'data_sg_exp-2_trial_032.txt', 'data_sg_exp-2_trial_033.txt', 'data_sg_exp-2_trial_034.txt', 'data_sg_exp-2_trial_035.txt', 'data_sg_exp-2_trial_036.txt', 'data_sg_exp-2_trial_037.txt', 'data_sg_exp-2_trial_038.txt', 'data_sg_exp-2_trial_039.txt', 'data_sg_exp-2_trial_040.txt', 'data_sg_exp-2_trial_041.txt', 'data_sg_exp-2_trial_042.txt', 'data_sg_exp-2_trial_043.txt', 'data_sg_exp-2_trial_044.txt', 'data_sg_exp-2_trial_045.txt', 'data_sg_exp-2_trial_046.txt', 'data_sg_exp-2_trial_047.txt', 'data_sg_exp-2_trial_048.txt', 'data_sg_exp-2_trial_049.txt', 'data_sg_exp-2_trial_050.txt', 'data_sg_exp-3_trial_001.txt', 'data_sg_exp-3_trial_002.txt', 'data_sg_exp-3_trial_003.txt', 'data_sg_exp-3_trial_004.txt', 'data_sg_exp-3_trial_005.txt', 'data_sg_exp-3_trial_006.txt', 'data_sg_exp-3_trial_007.txt', 'data_sg_exp-3_trial_008.txt', 'data_sg_exp-3_trial_009.txt', 'data_sg_exp-3_trial_010.txt', 'data_sg_exp-3_trial_011.txt', 'data_sg_exp-3_trial_012.txt', 'data_sg_exp-3_trial_013.txt', 'data_sg_exp-3_trial_014.txt', 'data_sg_exp-3_trial_015.txt', 'data_sg_exp-3_trial_016.txt', 'data_sg_exp-3_trial_017.txt', 'data_sg_exp-3_trial_018.txt', 'data_sg_exp-3_trial_019.txt', 'data_sg_exp-3_trial_020.txt', 'data_sg_exp-3_trial_021.txt', 'data_sg_exp-3_trial_022.txt', 'data_sg_exp-3_trial_023.txt', 'data_sg_exp-3_trial_024.txt', 'data_sg_exp-3_trial_025.txt', 'data_sg_exp-3_trial_026.txt', 'data_sg_exp-3_trial_027.txt', 'data_sg_exp-3_trial_028.txt', 'data_sg_exp-3_trial_029.txt', 'data_sg_exp-3_trial_030.txt', 'data_sg_exp-3_trial_031.txt', 'data_sg_exp-3_trial_032.txt', 'data_sg_exp-3_trial_033.txt', 'data_sg_exp-3_trial_034.txt', 'data_sg_exp-3_trial_035.txt', 'data_sg_exp-3_trial_036.txt', 'data_sg_exp-3_trial_037.txt', 'data_sg_exp-3_trial_038.txt', 'data_sg_exp-3_trial_039.txt', 'data_sg_exp-3_trial_040.txt', 'data_sg_exp-3_trial_041.txt', 'data_sg_exp-3_trial_042.txt', 'data_sg_exp-3_trial_043.txt', 'data_sg_exp-3_trial_044.txt', 'data_sg_exp-3_trial_045.txt', 'data_sg_exp-3_trial_046.txt', 'data_sg_exp-3_trial_047.txt', 'data_sg_exp-3_trial_048.txt', 'data_sg_exp-3_trial_049.txt', 'data_sg_exp-3_trial_050.txt', 'data_gb_exp-1_trial_001.txt', 'data_gb_exp-1_trial_002.txt', 'data_gb_exp-1_trial_003.txt', 'data_gb_exp-1_trial_004.txt', 'data_gb_exp-1_trial_005.txt', 'data_gb_exp-1_trial_006.txt', 'data_gb_exp-1_trial_007.txt', 'data_gb_exp-1_trial_008.txt', 'data_gb_exp-1_trial_009.txt', 'data_gb_exp-1_trial_010.txt', 'data_gb_exp-1_trial_011.txt', 'data_gb_exp-1_trial_012.txt', 'data_gb_exp-1_trial_013.txt', 'data_gb_exp-1_trial_014.txt', 'data_gb_exp-1_trial_015.txt', 'data_gb_exp-1_trial_016.txt', 'data_gb_exp-1_trial_017.txt', 'data_gb_exp-1_trial_018.txt', 'data_gb_exp-1_trial_019.txt', 'data_gb_exp-1_trial_020.txt', 'data_gb_exp-1_trial_021.txt', 'data_gb_exp-1_trial_022.txt', 'data_gb_exp-1_trial_023.txt', 'data_gb_exp-1_trial_024.txt', 'data_gb_exp-1_trial_025.txt', 'data_gb_exp-1_trial_026.txt', 'data_gb_exp-1_trial_027.txt', 'data_gb_exp-1_trial_028.txt', 'data_gb_exp-1_trial_029.txt', 'data_gb_exp-1_trial_030.txt', 'data_gb_exp-1_trial_031.txt', 'data_gb_exp-1_trial_032.txt', 'data_gb_exp-1_trial_033.txt', 'data_gb_exp-1_trial_034.txt', 'data_gb_exp-1_trial_035.txt', 'data_gb_exp-1_trial_036.txt', 'data_gb_exp-1_trial_037.txt', 'data_gb_exp-1_trial_038.txt', 'data_gb_exp-1_trial_039.txt', 'data_gb_exp-1_trial_040.txt', 'data_gb_exp-1_trial_041.txt', 'data_gb_exp-1_trial_042.txt', 'data_gb_exp-1_trial_043.txt', 'data_gb_exp-1_trial_044.txt', 'data_gb_exp-1_trial_045.txt', 'data_gb_exp-1_trial_046.txt', 'data_gb_exp-1_trial_047.txt', 'data_gb_exp-1_trial_048.txt', 'data_gb_exp-1_trial_049.txt', 'data_gb_exp-1_trial_050.txt', 'data_gb_exp-2_trial_001.txt', 'data_gb_exp-2_trial_002.txt', 'data_gb_exp-2_trial_003.txt', 'data_gb_exp-2_trial_004.txt', 'data_gb_exp-2_trial_005.txt', 'data_gb_exp-2_trial_006.txt', 'data_gb_exp-2_trial_007.txt', 'data_gb_exp-2_trial_008.txt', 'data_gb_exp-2_trial_009.txt', 'data_gb_exp-2_trial_010.txt', 'data_gb_exp-2_trial_011.txt', 'data_gb_exp-2_trial_012.txt', 'data_gb_exp-2_trial_013.txt', 'data_gb_exp-2_trial_014.txt', 'data_gb_exp-2_trial_015.txt', 'data_gb_exp-2_trial_016.txt', 'data_gb_exp-2_trial_017.txt', 'data_gb_exp-2_trial_018.txt', 'data_gb_exp-2_trial_019.txt', 'data_gb_exp-2_trial_020.txt', 'data_gb_exp-2_trial_021.txt', 'data_gb_exp-2_trial_022.txt', 'data_gb_exp-2_trial_023.txt', 'data_gb_exp-2_trial_024.txt', 'data_gb_exp-2_trial_025.txt', 'data_gb_exp-2_trial_026.txt', 'data_gb_exp-2_trial_027.txt', 'data_gb_exp-2_trial_028.txt', 'data_gb_exp-2_trial_029.txt', 'data_gb_exp-2_trial_030.txt', 'data_gb_exp-2_trial_031.txt', 'data_gb_exp-2_trial_032.txt', 'data_gb_exp-2_trial_033.txt', 'data_gb_exp-2_trial_034.txt', 'data_gb_exp-2_trial_035.txt', 'data_gb_exp-2_trial_036.txt', 'data_gb_exp-2_trial_037.txt', 'data_gb_exp-2_trial_038.txt', 'data_gb_exp-2_trial_039.txt', 'data_gb_exp-2_trial_040.txt', 'data_gb_exp-2_trial_041.txt', 'data_gb_exp-2_trial_042.txt', 'data_gb_exp-2_trial_043.txt', 'data_gb_exp-2_trial_044.txt', 'data_gb_exp-2_trial_045.txt', 'data_gb_exp-2_trial_046.txt', 'data_gb_exp-2_trial_047.txt', 'data_gb_exp-2_trial_048.txt', 'data_gb_exp-2_trial_049.txt', 'data_gb_exp-2_trial_050.txt', 'data_gb_exp-3_trial_001.txt', 'data_gb_exp-3_trial_002.txt', 'data_gb_exp-3_trial_003.txt', 'data_gb_exp-3_trial_004.txt', 'data_gb_exp-3_trial_005.txt', 'data_gb_exp-3_trial_006.txt', 'data_gb_exp-3_trial_007.txt', 'data_gb_exp-3_trial_008.txt', 'data_gb_exp-3_trial_009.txt', 'data_gb_exp-3_trial_010.txt', 'data_gb_exp-3_trial_011.txt', 'data_gb_exp-3_trial_012.txt', 'data_gb_exp-3_trial_013.txt', 'data_gb_exp-3_trial_014.txt', 'data_gb_exp-3_trial_015.txt', 'data_gb_exp-3_trial_016.txt', 'data_gb_exp-3_trial_017.txt', 'data_gb_exp-3_trial_018.txt', 'data_gb_exp-3_trial_019.txt', 'data_gb_exp-3_trial_020.txt', 'data_gb_exp-3_trial_021.txt', 'data_gb_exp-3_trial_022.txt', 'data_gb_exp-3_trial_023.txt', 'data_gb_exp-3_trial_024.txt', 'data_gb_exp-3_trial_025.txt', 'data_gb_exp-3_trial_026.txt', 'data_gb_exp-3_trial_027.txt', 'data_gb_exp-3_trial_028.txt', 'data_gb_exp-3_trial_029.txt', 'data_gb_exp-3_trial_030.txt', 'data_gb_exp-3_trial_031.txt', 'data_gb_exp-3_trial_032.txt', 'data_gb_exp-3_trial_033.txt', 'data_gb_exp-3_trial_034.txt', 'data_gb_exp-3_trial_035.txt', 'data_gb_exp-3_trial_036.txt', 'data_gb_exp-3_trial_037.txt', 'data_gb_exp-3_trial_038.txt', 'data_gb_exp-3_trial_039.txt', 'data_gb_exp-3_trial_040.txt', 'data_gb_exp-3_trial_041.txt', 'data_gb_exp-3_trial_042.txt', 'data_gb_exp-3_trial_043.txt', 'data_gb_exp-3_trial_044.txt', 'data_gb_exp-3_trial_045.txt', 'data_gb_exp-3_trial_046.txt', 'data_gb_exp-3_trial_047.txt', 'data_gb_exp-3_trial_048.txt', 'data_gb_exp-3_trial_049.txt', 'data_gb_exp-3_trial_050.txt', 'data_us_exp-1_trial_001.txt', 'data_us_exp-1_trial_002.txt', 'data_us_exp-1_trial_003.txt', 'data_us_exp-1_trial_004.txt', 'data_us_exp-1_trial_005.txt', 'data_us_exp-1_trial_006.txt', 'data_us_exp-1_trial_007.txt', 'data_us_exp-1_trial_008.txt', 'data_us_exp-1_trial_009.txt', 'data_us_exp-1_trial_010.txt', 'data_us_exp-1_trial_011.txt', 'data_us_exp-1_trial_012.txt', 'data_us_exp-1_trial_013.txt', 'data_us_exp-1_trial_014.txt', 'data_us_exp-1_trial_015.txt', 'data_us_exp-1_trial_016.txt', 'data_us_exp-1_trial_017.txt', 'data_us_exp-1_trial_018.txt', 'data_us_exp-1_trial_019.txt', 'data_us_exp-1_trial_020.txt', 'data_us_exp-1_trial_021.txt', 'data_us_exp-1_trial_022.txt', 'data_us_exp-1_trial_023.txt', 'data_us_exp-1_trial_024.txt', 'data_us_exp-1_trial_025.txt', 'data_us_exp-1_trial_026.txt', 'data_us_exp-1_trial_027.txt', 'data_us_exp-1_trial_028.txt', 'data_us_exp-1_trial_029.txt', 'data_us_exp-1_trial_030.txt', 'data_us_exp-1_trial_031.txt', 'data_us_exp-1_trial_032.txt', 'data_us_exp-1_trial_033.txt', 'data_us_exp-1_trial_034.txt', 'data_us_exp-1_trial_035.txt', 'data_us_exp-1_trial_036.txt', 'data_us_exp-1_trial_037.txt', 'data_us_exp-1_trial_038.txt', 'data_us_exp-1_trial_039.txt', 'data_us_exp-1_trial_040.txt', 'data_us_exp-1_trial_041.txt', 'data_us_exp-1_trial_042.txt', 'data_us_exp-1_trial_043.txt', 'data_us_exp-1_trial_044.txt', 'data_us_exp-1_trial_045.txt', 'data_us_exp-1_trial_046.txt', 'data_us_exp-1_trial_047.txt', 'data_us_exp-1_trial_048.txt', 'data_us_exp-1_trial_049.txt', 'data_us_exp-1_trial_050.txt', 'data_us_exp-2_trial_001.txt', 'data_us_exp-2_trial_002.txt', 'data_us_exp-2_trial_003.txt', 'data_us_exp-2_trial_004.txt', 'data_us_exp-2_trial_005.txt', 'data_us_exp-2_trial_006.txt', 'data_us_exp-2_trial_007.txt', 'data_us_exp-2_trial_008.txt', 'data_us_exp-2_trial_009.txt', 'data_us_exp-2_trial_010.txt', 'data_us_exp-2_trial_011.txt', 'data_us_exp-2_trial_012.txt', 'data_us_exp-2_trial_013.txt', 'data_us_exp-2_trial_014.txt', 'data_us_exp-2_trial_015.txt', 'data_us_exp-2_trial_016.txt', 'data_us_exp-2_trial_017.txt', 'data_us_exp-2_trial_018.txt', 'data_us_exp-2_trial_019.txt', 'data_us_exp-2_trial_020.txt', 'data_us_exp-2_trial_021.txt', 'data_us_exp-2_trial_022.txt', 'data_us_exp-2_trial_023.txt', 'data_us_exp-2_trial_024.txt', 'data_us_exp-2_trial_025.txt', 'data_us_exp-2_trial_026.txt', 'data_us_exp-2_trial_027.txt', 'data_us_exp-2_trial_028.txt', 'data_us_exp-2_trial_029.txt', 'data_us_exp-2_trial_030.txt', 'data_us_exp-2_trial_031.txt', 'data_us_exp-2_trial_032.txt', 'data_us_exp-2_trial_033.txt', 'data_us_exp-2_trial_034.txt', 'data_us_exp-2_trial_035.txt', 'data_us_exp-2_trial_036.txt', 'data_us_exp-2_trial_037.txt', 'data_us_exp-2_trial_038.txt', 'data_us_exp-2_trial_039.txt', 'data_us_exp-2_trial_040.txt', 'data_us_exp-2_trial_041.txt', 'data_us_exp-2_trial_042.txt', 'data_us_exp-2_trial_043.txt', 'data_us_exp-2_trial_044.txt', 'data_us_exp-2_trial_045.txt', 'data_us_exp-2_trial_046.txt', 'data_us_exp-2_trial_047.txt', 'data_us_exp-2_trial_048.txt', 'data_us_exp-2_trial_049.txt', 'data_us_exp-2_trial_050.txt', 'data_us_exp-3_trial_001.txt', 'data_us_exp-3_trial_002.txt', 'data_us_exp-3_trial_003.txt', 'data_us_exp-3_trial_004.txt', 'data_us_exp-3_trial_005.txt', 'data_us_exp-3_trial_006.txt', 'data_us_exp-3_trial_007.txt', 'data_us_exp-3_trial_008.txt', 'data_us_exp-3_trial_009.txt', 'data_us_exp-3_trial_010.txt', 'data_us_exp-3_trial_011.txt', 'data_us_exp-3_trial_012.txt', 'data_us_exp-3_trial_013.txt', 'data_us_exp-3_trial_014.txt', 'data_us_exp-3_trial_015.txt', 'data_us_exp-3_trial_016.txt', 'data_us_exp-3_trial_017.txt', 'data_us_exp-3_trial_018.txt', 'data_us_exp-3_trial_019.txt', 'data_us_exp-3_trial_020.txt', 'data_us_exp-3_trial_021.txt', 'data_us_exp-3_trial_022.txt', 'data_us_exp-3_trial_023.txt', 'data_us_exp-3_trial_024.txt', 'data_us_exp-3_trial_025.txt', 'data_us_exp-3_trial_026.txt', 'data_us_exp-3_trial_027.txt', 'data_us_exp-3_trial_028.txt', 'data_us_exp-3_trial_029.txt', 'data_us_exp-3_trial_030.txt', 'data_us_exp-3_trial_031.txt', 'data_us_exp-3_trial_032.txt', 'data_us_exp-3_trial_033.txt', 'data_us_exp-3_trial_034.txt', 'data_us_exp-3_trial_035.txt', 'data_us_exp-3_trial_036.txt', 'data_us_exp-3_trial_037.txt', 'data_us_exp-3_trial_038.txt', 'data_us_exp-3_trial_039.txt', 'data_us_exp-3_trial_040.txt', 'data_us_exp-3_trial_041.txt', 'data_us_exp-3_trial_042.txt', 'data_us_exp-3_trial_043.txt', 'data_us_exp-3_trial_044.txt', 'data_us_exp-3_trial_045.txt', 'data_us_exp-3_trial_046.txt', 'data_us_exp-3_trial_047.txt', 'data_us_exp-3_trial_048.txt', 'data_us_exp-3_trial_049.txt', 'data_us_exp-3_trial_050.txt']\n"
     ]
    }
   ],
   "source": [
    "X = ['sg', 'gb', 'us']\n",
    "Y = ['exp-1', 'exp-2', 'exp-3']\n",
    "\n",
    "science = []\n",
    "\n",
    "for country in X:\n",
    "    for experiment in Y:\n",
    "        for rank in range(1,51):\n",
    "            science.append(f\"data_{country}_{experiment}_trial_{rank:03d}.txt\")\n",
    "            \n",
    "print(science)"
   ]
  },
  {
   "cell_type": "markdown",
   "id": "878e858c",
   "metadata": {},
   "source": [
    "## Exercise 2 :  Tutti frutti"
   ]
  },
  {
   "cell_type": "code",
   "execution_count": 79,
   "id": "0c7f53cb",
   "metadata": {},
   "outputs": [
    {
     "name": "stdout",
     "output_type": "stream",
     "text": [
      "delicious!\n"
     ]
    }
   ],
   "source": [
    "fruits = [\"apple\", \"banana\", \"pineapple\", \"jackfruit\",\n",
    "        \"peach\", \"durian\", \"watermelon\", \"mango\",\n",
    "        \"strawberry\", \"passionfruit\"]\n",
    "\n",
    "if \"mango\" in fruits:\n",
    "    print(\"delicious!\")"
   ]
  },
  {
   "cell_type": "code",
   "execution_count": 80,
   "id": "a17bf172",
   "metadata": {},
   "outputs": [
    {
     "name": "stdout",
     "output_type": "stream",
     "text": [
      "a e\n",
      "b a\n",
      "p e\n",
      "j t\n",
      "p h\n",
      "d n\n",
      "w n\n",
      "m o\n",
      "s y\n",
      "p t\n"
     ]
    }
   ],
   "source": [
    "for name in fruits:\n",
    "    print(name[0],name[-1])\n"
   ]
  },
  {
   "cell_type": "code",
   "execution_count": 81,
   "id": "cc2b7c4b",
   "metadata": {},
   "outputs": [
    {
     "name": "stdout",
     "output_type": "stream",
     "text": [
      "apple\n",
      "banana\n",
      "PINEAPPLE\n",
      "jackfruit\n",
      "PEACH\n",
      "durian\n",
      "watermelon\n",
      "mango\n",
      "strawberry\n",
      "PASSIONFRUIT\n"
     ]
    }
   ],
   "source": [
    "for name in fruits:\n",
    "    if name[0]=='p':\n",
    "        print(name.upper())\n",
    "    else:\n",
    "        print(name)"
   ]
  },
  {
   "cell_type": "code",
   "execution_count": 85,
   "id": "a0bd4d52",
   "metadata": {},
   "outputs": [
    {
     "name": "stdout",
     "output_type": "stream",
     "text": [
      "['apple', 'banana', 'pineapple', 'jackfruit', 'peach', 'durian', 'watermelon', 'mango', 'strawberry', 'passionfruit', 'dragon fruit', 'apricots', 'oranges']\n"
     ]
    }
   ],
   "source": [
    "fruits = [\"apple\", \"banana\", \"pineapple\", \"jackfruit\",\n",
    "        \"peach\", \"durian\", \"watermelon\", \"mango\",\n",
    "        \"strawberry\", \"passionfruit\"]\n",
    "\n",
    "fruits = fruits + [\"dragon fruit\", \"apricots\", \"oranges\"]\n",
    "\n",
    "print(fruits)"
   ]
  },
  {
   "cell_type": "code",
   "execution_count": 94,
   "id": "37022f2d",
   "metadata": {},
   "outputs": [
    {
     "name": "stdout",
     "output_type": "stream",
     "text": [
      "['dragon fruit', 'apricots', 'oranges', 'apple', 'banana', 'pineapple', 'jackfruit', 'peach', 'durian', 'watermelon', 'mango', 'strawberry', 'passionfruit']\n"
     ]
    }
   ],
   "source": [
    "fruits = [\"apple\", \"banana\", \"pineapple\", \"jackfruit\",\n",
    "        \"peach\", \"durian\", \"watermelon\", \"mango\",\n",
    "        \"strawberry\", \"passionfruit\"]\n",
    "\n",
    "fruits = [\"dragon fruit\", \"apricots\", \"oranges\"] + fruits\n",
    "\n",
    "print(fruits)"
   ]
  },
  {
   "cell_type": "code",
   "execution_count": 90,
   "id": "1fb93e64",
   "metadata": {},
   "outputs": [
    {
     "name": "stdout",
     "output_type": "stream",
     "text": [
      "13\n"
     ]
    }
   ],
   "source": [
    "print(len(fruits))"
   ]
  },
  {
   "cell_type": "code",
   "execution_count": 98,
   "id": "4e4a872c",
   "metadata": {},
   "outputs": [
    {
     "name": "stdout",
     "output_type": "stream",
     "text": [
      "['apple', 'banana', 'pineapple', 'jackfruit', 'peach', 'dragon fruit', 'apricots', 'oranges', 'durian', 'watermelon', 'mango', 'strawberry', 'passionfruit']\n"
     ]
    }
   ],
   "source": [
    "fruits = [\"apple\", \"banana\", \"pineapple\", \"jackfruit\",\n",
    "        \"peach\", \"durian\", \"watermelon\", \"mango\",\n",
    "        \"strawberry\", \"passionfruit\"]\n",
    "\n",
    "new = [\"dragon fruit\", \"apricots\", \"oranges\"]\n",
    "for names in new:\n",
    "    fruits.insert(-5,names)         # \n",
    "\n",
    "print(fruits)"
   ]
  },
  {
   "cell_type": "code",
   "execution_count": 99,
   "id": "7194d09c",
   "metadata": {},
   "outputs": [
    {
     "data": {
      "text/plain": [
       "['pineapple',\n",
       " 'jackfruit',\n",
       " 'dragon fruit',\n",
       " 'watermelon',\n",
       " 'strawberry',\n",
       " 'passionfruit']"
      ]
     },
     "execution_count": 99,
     "metadata": {},
     "output_type": "execute_result"
    }
   ],
   "source": [
    "[name for name in fruits if len(name)>8]"
   ]
  },
  {
   "cell_type": "markdown",
   "id": "1245baca",
   "metadata": {},
   "source": [
    "## Exercise 3 :  Ciao Fibonacci"
   ]
  },
  {
   "cell_type": "code",
   "execution_count": 120,
   "id": "e14badaf",
   "metadata": {},
   "outputs": [
    {
     "name": "stdout",
     "output_type": "stream",
     "text": [
      "[0, 1, 1, 2, 3, 5, 8, 13, 21, 34, 55, 89, 144, 233]\n"
     ]
    }
   ],
   "source": [
    "fibonnaci=[0, 1]\n",
    "\n",
    "for numbers in range(0,12):\n",
    "    fibonnaci.append(fibonnaci[-1]+fibonnaci[-2])  \n",
    "    \n",
    "# remember that you need to 'call' a list in order to type an index in the first place\n",
    "# you can't just index nothing\n",
    "\n",
    "print(fibonnaci)"
   ]
  },
  {
   "cell_type": "markdown",
   "id": "aa8d6dc3",
   "metadata": {},
   "source": [
    "## Exercise 4 :  A function for Fibonacci"
   ]
  },
  {
   "cell_type": "code",
   "execution_count": 123,
   "id": "6c944ebe",
   "metadata": {
    "code_folding": []
   },
   "outputs": [],
   "source": [
    "def fibonacci(n):\n",
    "    scratch = [0, 1]\n",
    "    if n==1:                                # this is for the special first element case that is not covered by 'scratch'\n",
    "        return [0]\n",
    "    if type(n)!= int:                        # this eliminates the cases that you don't want\n",
    "        return \"n needs to be an integer!\"\n",
    "    elif n<=0:\n",
    "        return \"n has to be positive!\"\n",
    "    \n",
    "    for numbers in range(0,n-2):\n",
    "        scratch.append(scratch[-1]+scratch[-2])\n",
    "    return scratch\n",
    "\n",
    "\n"
   ]
  },
  {
   "cell_type": "code",
   "execution_count": 124,
   "id": "6617ed3f",
   "metadata": {},
   "outputs": [
    {
     "name": "stdout",
     "output_type": "stream",
     "text": [
      "[0, 1, 1, 2, 3, 5]\n",
      "[0, 1]\n",
      "[0]\n",
      "n has to be positive!\n",
      "n needs to be an integer!\n"
     ]
    }
   ],
   "source": [
    "print(fibonacci(6)) # [0, 1, 1, 2, 3, 5]        # checking cell\n",
    "print(fibonacci(2)) # [0, 1]\n",
    "print(fibonacci(1)) # [0]\n",
    "print(fibonacci(-1))\n",
    "print(fibonacci(.5))"
   ]
  },
  {
   "cell_type": "markdown",
   "id": "337b8f41",
   "metadata": {},
   "source": [
    "## Exercise 5 :  max_info() without NumPy"
   ]
  },
  {
   "cell_type": "code",
   "execution_count": 152,
   "id": "dcc3ef58",
   "metadata": {},
   "outputs": [],
   "source": [
    "def max_info(numbers):\n",
    "    my_max=numbers[0]                      # selects the first element in numbers\n",
    "    for i in range(0,len(numbers)-1):       # last element has nothing to compare to, so we select the second last\n",
    "        if my_max > numbers[i+1]:             # remember square brackets for indexing\n",
    "            continue                          # this section compares the number in front of i, so the range can be len-1\n",
    "        else:\n",
    "            my_max = numbers[i+1]            # the new my_max is now that number\n",
    "    print(my_max)"
   ]
  },
  {
   "cell_type": "code",
   "execution_count": 155,
   "id": "6a378fe7",
   "metadata": {},
   "outputs": [],
   "source": [
    "def max_info(numbers):\n",
    "    my_max=numbers[0]                      # selects the first element in numbers\n",
    "    for i in range(0,len(numbers)-1):       \n",
    "        if my_max < numbers[i+1]:      # more efficient way because if the condition is not fulfiled, it does nothing\n",
    "            my_max = numbers[i+1]            \n",
    "    \n",
    "    print(my_max)"
   ]
  },
  {
   "cell_type": "code",
   "execution_count": 156,
   "id": "956cb2c1",
   "metadata": {},
   "outputs": [],
   "source": [
    "numbers = [40, 27, 83, 44, 74, 51, 76, 77, 10, 95, 101, 102, 82, 76, 2]"
   ]
  },
  {
   "cell_type": "code",
   "execution_count": 157,
   "id": "d30138c1",
   "metadata": {},
   "outputs": [
    {
     "name": "stdout",
     "output_type": "stream",
     "text": [
      "102\n"
     ]
    }
   ],
   "source": [
    "max_info(numbers)"
   ]
  },
  {
   "cell_type": "markdown",
   "id": "90820a1d",
   "metadata": {},
   "source": [
    "## Exercise 6 :  Take count"
   ]
  },
  {
   "cell_type": "code",
   "execution_count": 28,
   "id": "d5b00b18",
   "metadata": {},
   "outputs": [],
   "source": [
    "dna = \"AGGCAAGAAGCTAGAATTCTGGCCTGAGTATCTCAGTACAGGCGCAGTCGAATCTTCCGGAATCACATTGCTCGCGCTTAAACCCGCTCTAAACCTTTGAGTAATTCGACGACATTGGGTTCCCTCCGACGCTGTCTGACAACTCTTTAAGATCCTTGGCACGATGTCGATAGACATTGTCCCTGATGACGCCTCACAAGGTAACCTGGCTCTAGTAGGGTGGTCTTTGCTGCGGAACTTACCACCTGGTGGATCCAAGCACCAGAGGAGTTCGAAGAGGCTGGGGTACCCCCTATTTAGGAAGGGCGAGACTACGGTCACAAATTCCAAATGGCTTCCCTCGATTCATGACGCCAGAATGCCTGGCTGTGCCAATTTGTCGCCTTGCGTCGTTCTGTCAATCTTTACTCGTGTCGTGTTGTGATAAATGACAAACCCTGCACAACGTAGGGCTCACACAAGGGAATCTAGAGTATCCGATACAGGGAGCTTTAGCTTCCGTCCCTTATAGCCTGCCATATTCTTGCGGTAGCACGAGCCTCAGATCTTCTCACTCCGGAAATGGGAGCTTCGACGGTCAAGGGCTAAGACGTCTTCGGGAGAAATACCTAGGCGATGACCCTGAGTGGTTTTCCGCGTATAACTCATCCTGGTTGCAAATGATTACCGTTATAGCCTGGGGATATGCCTCAATTCCGAACCCAGGAGCATCACTCGAGCAATAGCGGTAAAGGAGGCTATTAGCAAAATTGTCACGATAAGCGCCGTTGTAGTGAAATTAAGATACATACATCGTTTAGCACATCACTCTCACGGCGTCTAGAAGCTGATCTTCATATGCTGACTCAGAAGGCTCGGATAATAGAGGACGAAGGTAGTTTACTCATCGCTGCCCCGACTATTACGTGTGCATGATAAAGTCTGACCCTGACGTTCCCAAGCCGAGGCAGAGGGGTTTTACGCTGAATGTCCGCTCTCTGTCGGATGATTTCGGAAGCTG\""
   ]
  },
  {
   "cell_type": "code",
   "execution_count": 29,
   "id": "8966e6df",
   "metadata": {},
   "outputs": [
    {
     "name": "stdout",
     "output_type": "stream",
     "text": [
      "['A', 'G', 'G', 'C', 'A', 'A', 'G', 'A', 'A', 'G', 'C', 'T', 'A', 'G', 'A', 'A', 'T', 'T', 'C', 'T', 'G', 'G', 'C', 'C', 'T', 'G', 'A', 'G', 'T', 'A', 'T', 'C', 'T', 'C', 'A', 'G', 'T', 'A', 'C', 'A', 'G', 'G', 'C', 'G', 'C', 'A', 'G', 'T', 'C', 'G', 'A', 'A', 'T', 'C', 'T', 'T', 'C', 'C', 'G', 'G', 'A', 'A', 'T', 'C', 'A', 'C', 'A', 'T', 'T', 'G', 'C', 'T', 'C', 'G', 'C', 'G', 'C', 'T', 'T', 'A', 'A', 'A', 'C', 'C', 'C', 'G', 'C', 'T', 'C', 'T', 'A', 'A', 'A', 'C', 'C', 'T', 'T', 'T', 'G', 'A', 'G', 'T', 'A', 'A', 'T', 'T', 'C', 'G', 'A', 'C', 'G', 'A', 'C', 'A', 'T', 'T', 'G', 'G', 'G', 'T', 'T', 'C', 'C', 'C', 'T', 'C', 'C', 'G', 'A', 'C', 'G', 'C', 'T', 'G', 'T', 'C', 'T', 'G', 'A', 'C', 'A', 'A', 'C', 'T', 'C', 'T', 'T', 'T', 'A', 'A', 'G', 'A', 'T', 'C', 'C', 'T', 'T', 'G', 'G', 'C', 'A', 'C', 'G', 'A', 'T', 'G', 'T', 'C', 'G', 'A', 'T', 'A', 'G', 'A', 'C', 'A', 'T', 'T', 'G', 'T', 'C', 'C', 'C', 'T', 'G', 'A', 'T', 'G', 'A', 'C', 'G', 'C', 'C', 'T', 'C', 'A', 'C', 'A', 'A', 'G', 'G', 'T', 'A', 'A', 'C', 'C', 'T', 'G', 'G', 'C', 'T', 'C', 'T', 'A', 'G', 'T', 'A', 'G', 'G', 'G', 'T', 'G', 'G', 'T', 'C', 'T', 'T', 'T', 'G', 'C', 'T', 'G', 'C', 'G', 'G', 'A', 'A', 'C', 'T', 'T', 'A', 'C', 'C', 'A', 'C', 'C', 'T', 'G', 'G', 'T', 'G', 'G', 'A', 'T', 'C', 'C', 'A', 'A', 'G', 'C', 'A', 'C', 'C', 'A', 'G', 'A', 'G', 'G', 'A', 'G', 'T', 'T', 'C', 'G', 'A', 'A', 'G', 'A', 'G', 'G', 'C', 'T', 'G', 'G', 'G', 'G', 'T', 'A', 'C', 'C', 'C', 'C', 'C', 'T', 'A', 'T', 'T', 'T', 'A', 'G', 'G', 'A', 'A', 'G', 'G', 'G', 'C', 'G', 'A', 'G', 'A', 'C', 'T', 'A', 'C', 'G', 'G', 'T', 'C', 'A', 'C', 'A', 'A', 'A', 'T', 'T', 'C', 'C', 'A', 'A', 'A', 'T', 'G', 'G', 'C', 'T', 'T', 'C', 'C', 'C', 'T', 'C', 'G', 'A', 'T', 'T', 'C', 'A', 'T', 'G', 'A', 'C', 'G', 'C', 'C', 'A', 'G', 'A', 'A', 'T', 'G', 'C', 'C', 'T', 'G', 'G', 'C', 'T', 'G', 'T', 'G', 'C', 'C', 'A', 'A', 'T', 'T', 'T', 'G', 'T', 'C', 'G', 'C', 'C', 'T', 'T', 'G', 'C', 'G', 'T', 'C', 'G', 'T', 'T', 'C', 'T', 'G', 'T', 'C', 'A', 'A', 'T', 'C', 'T', 'T', 'T', 'A', 'C', 'T', 'C', 'G', 'T', 'G', 'T', 'C', 'G', 'T', 'G', 'T', 'T', 'G', 'T', 'G', 'A', 'T', 'A', 'A', 'A', 'T', 'G', 'A', 'C', 'A', 'A', 'A', 'C', 'C', 'C', 'T', 'G', 'C', 'A', 'C', 'A', 'A', 'C', 'G', 'T', 'A', 'G', 'G', 'G', 'C', 'T', 'C', 'A', 'C', 'A', 'C', 'A', 'A', 'G', 'G', 'G', 'A', 'A', 'T', 'C', 'T', 'A', 'G', 'A', 'G', 'T', 'A', 'T', 'C', 'C', 'G', 'A', 'T', 'A', 'C', 'A', 'G', 'G', 'G', 'A', 'G', 'C', 'T', 'T', 'T', 'A', 'G', 'C', 'T', 'T', 'C', 'C', 'G', 'T', 'C', 'C', 'C', 'T', 'T', 'A', 'T', 'A', 'G', 'C', 'C', 'T', 'G', 'C', 'C', 'A', 'T', 'A', 'T', 'T', 'C', 'T', 'T', 'G', 'C', 'G', 'G', 'T', 'A', 'G', 'C', 'A', 'C', 'G', 'A', 'G', 'C', 'C', 'T', 'C', 'A', 'G', 'A', 'T', 'C', 'T', 'T', 'C', 'T', 'C', 'A', 'C', 'T', 'C', 'C', 'G', 'G', 'A', 'A', 'A', 'T', 'G', 'G', 'G', 'A', 'G', 'C', 'T', 'T', 'C', 'G', 'A', 'C', 'G', 'G', 'T', 'C', 'A', 'A', 'G', 'G', 'G', 'C', 'T', 'A', 'A', 'G', 'A', 'C', 'G', 'T', 'C', 'T', 'T', 'C', 'G', 'G', 'G', 'A', 'G', 'A', 'A', 'A', 'T', 'A', 'C', 'C', 'T', 'A', 'G', 'G', 'C', 'G', 'A', 'T', 'G', 'A', 'C', 'C', 'C', 'T', 'G', 'A', 'G', 'T', 'G', 'G', 'T', 'T', 'T', 'T', 'C', 'C', 'G', 'C', 'G', 'T', 'A', 'T', 'A', 'A', 'C', 'T', 'C', 'A', 'T', 'C', 'C', 'T', 'G', 'G', 'T', 'T', 'G', 'C', 'A', 'A', 'A', 'T', 'G', 'A', 'T', 'T', 'A', 'C', 'C', 'G', 'T', 'T', 'A', 'T', 'A', 'G', 'C', 'C', 'T', 'G', 'G', 'G', 'G', 'A', 'T', 'A', 'T', 'G', 'C', 'C', 'T', 'C', 'A', 'A', 'T', 'T', 'C', 'C', 'G', 'A', 'A', 'C', 'C', 'C', 'A', 'G', 'G', 'A', 'G', 'C', 'A', 'T', 'C', 'A', 'C', 'T', 'C', 'G', 'A', 'G', 'C', 'A', 'A', 'T', 'A', 'G', 'C', 'G', 'G', 'T', 'A', 'A', 'A', 'G', 'G', 'A', 'G', 'G', 'C', 'T', 'A', 'T', 'T', 'A', 'G', 'C', 'A', 'A', 'A', 'A', 'T', 'T', 'G', 'T', 'C', 'A', 'C', 'G', 'A', 'T', 'A', 'A', 'G', 'C', 'G', 'C', 'C', 'G', 'T', 'T', 'G', 'T', 'A', 'G', 'T', 'G', 'A', 'A', 'A', 'T', 'T', 'A', 'A', 'G', 'A', 'T', 'A', 'C', 'A', 'T', 'A', 'C', 'A', 'T', 'C', 'G', 'T', 'T', 'T', 'A', 'G', 'C', 'A', 'C', 'A', 'T', 'C', 'A', 'C', 'T', 'C', 'T', 'C', 'A', 'C', 'G', 'G', 'C', 'G', 'T', 'C', 'T', 'A', 'G', 'A', 'A', 'G', 'C', 'T', 'G', 'A', 'T', 'C', 'T', 'T', 'C', 'A', 'T', 'A', 'T', 'G', 'C', 'T', 'G', 'A', 'C', 'T', 'C', 'A', 'G', 'A', 'A', 'G', 'G', 'C', 'T', 'C', 'G', 'G', 'A', 'T', 'A', 'A', 'T', 'A', 'G', 'A', 'G', 'G', 'A', 'C', 'G', 'A', 'A', 'G', 'G', 'T', 'A', 'G', 'T', 'T', 'T', 'A', 'C', 'T', 'C', 'A', 'T', 'C', 'G', 'C', 'T', 'G', 'C', 'C', 'C', 'C', 'G', 'A', 'C', 'T', 'A', 'T', 'T', 'A', 'C', 'G', 'T', 'G', 'T', 'G', 'C', 'A', 'T', 'G', 'A', 'T', 'A', 'A', 'A', 'G', 'T', 'C', 'T', 'G', 'A', 'C', 'C', 'C', 'T', 'G', 'A', 'C', 'G', 'T', 'T', 'C', 'C', 'C', 'A', 'A', 'G', 'C', 'C', 'G', 'A', 'G', 'G', 'C', 'A', 'G', 'A', 'G', 'G', 'G', 'G', 'T', 'T', 'T', 'T', 'A', 'C', 'G', 'C', 'T', 'G', 'A', 'A', 'T', 'G', 'T', 'C', 'C', 'G', 'C', 'T', 'C', 'T', 'C', 'T', 'G', 'T', 'C', 'G', 'G', 'A', 'T', 'G', 'A', 'T', 'T', 'T', 'C', 'G', 'G', 'A', 'A', 'G', 'C', 'T', 'G']\n"
     ]
    }
   ],
   "source": [
    "dna_split = []\n",
    "for i in dna:\n",
    "    dna_split.append(i) # recognises each letter as an element and adds letter by letter to an empty list\n",
    "    \n",
    "print(dna_split)"
   ]
  },
  {
   "cell_type": "code",
   "execution_count": 30,
   "id": "5268321e",
   "metadata": {},
   "outputs": [
    {
     "name": "stdout",
     "output_type": "stream",
     "text": [
      "254\n"
     ]
    }
   ],
   "source": [
    "count = 0       # creating a variable at the start so that you can store the values\n",
    "for i in dna_split:\n",
    "    if i=='T':\n",
    "        count += 1      # adds 1 to \"count\" each time the condition is fulfilled, then repeats the loop for next character\n",
    "    \n",
    "print(count)"
   ]
  },
  {
   "cell_type": "code",
   "execution_count": 31,
   "id": "0f58e018",
   "metadata": {},
   "outputs": [
    {
     "name": "stdout",
     "output_type": "stream",
     "text": [
      "254\n"
     ]
    }
   ],
   "source": [
    "tyrosine_count = [tyr for tyr in dna_split if tyr=='T']   # counting the 'T's using list comprehension\n",
    "print(len(tyrosine_count))"
   ]
  },
  {
   "cell_type": "code",
   "execution_count": 32,
   "id": "94279c99",
   "metadata": {},
   "outputs": [
    {
     "name": "stdout",
     "output_type": "stream",
     "text": [
      "number of adenosines = 247\n"
     ]
    }
   ],
   "source": [
    "adenosine_count = 0\n",
    "for nucleotide in dna:\n",
    "    if nucleotide == 'A':\n",
    "        adenosine_count += 1\n",
    "        \n",
    "print(f\"number of adenosines = {adenosine_count}\")"
   ]
  },
  {
   "cell_type": "code",
   "execution_count": 33,
   "id": "94f7516f",
   "metadata": {},
   "outputs": [
    {
     "name": "stdout",
     "output_type": "stream",
     "text": [
      "number of cytosines = 250\n"
     ]
    }
   ],
   "source": [
    "cytosine_count = 0\n",
    "for nucleotide in dna:\n",
    "    if nucleotide == 'C':\n",
    "        cytosine_count += 1\n",
    "        \n",
    "print(f\"number of cytosines = {cytosine_count}\")"
   ]
  },
  {
   "cell_type": "code",
   "execution_count": 34,
   "id": "c381ac60",
   "metadata": {},
   "outputs": [
    {
     "name": "stdout",
     "output_type": "stream",
     "text": [
      "number of guanosines = 249\n"
     ]
    }
   ],
   "source": [
    "guanosine_count = 0\n",
    "for nucleotide in dna:\n",
    "    if nucleotide == 'G':\n",
    "        guanosine_count += 1\n",
    "        \n",
    "print(f\"number of guanosines = {guanosine_count}\")"
   ]
  },
  {
   "cell_type": "code",
   "execution_count": 35,
   "id": "d39b1ce9",
   "metadata": {},
   "outputs": [],
   "source": [
    "nucleotide_count = {\"A\":\"247\", \n",
    "                    \"T\":\"254\", \n",
    "                    \"C\":\"250\", \n",
    "                    \"G\":\"249\"\n",
    "                   }"
   ]
  },
  {
   "cell_type": "code",
   "execution_count": 36,
   "id": "7efa2a5c",
   "metadata": {},
   "outputs": [
    {
     "data": {
      "text/plain": [
       "(array(['A', 'C', 'G', 'T'], dtype='<U1'),\n",
       " array([247, 250, 249, 254], dtype=int64))"
      ]
     },
     "execution_count": 36,
     "metadata": {},
     "output_type": "execute_result"
    }
   ],
   "source": [
    "np.unique(dna_split, return_counts = \"A\") # why do I got the answer for all 4 types when I only typed \"A\" into my returncount?"
   ]
  },
  {
   "cell_type": "code",
   "execution_count": 62,
   "id": "bdad1b4e",
   "metadata": {},
   "outputs": [
    {
     "name": "stdout",
     "output_type": "stream",
     "text": [
      "['AGGC', 'AAGA', 'AGCT', 'AGAA', 'TTCT', 'GGCC', 'TGAG', 'TATC', 'TCAG', 'TACA', 'GGCG', 'CAGT', 'CGAA', 'TCTT', 'CCGG', 'AATC', 'ACAT', 'TGCT', 'CGCG', 'CTTA', 'AACC', 'CGCT', 'CTAA', 'ACCT', 'TTGA', 'GTAA', 'TTCG', 'ACGA', 'CATT', 'GGGT', 'TCCC', 'TCCG', 'ACGC', 'TGTC', 'TGAC', 'AACT', 'CTTT', 'AAGA', 'TCCT', 'TGGC', 'ACGA', 'TGTC', 'GATA', 'GACA', 'TTGT', 'CCCT', 'GATG', 'ACGC', 'CTCA', 'CAAG', 'GTAA', 'CCTG', 'GCTC', 'TAGT', 'AGGG', 'TGGT', 'CTTT', 'GCTG', 'CGGA', 'ACTT', 'ACCA', 'CCTG', 'GTGG', 'ATCC', 'AAGC', 'ACCA', 'GAGG', 'AGTT', 'CGAA', 'GAGG', 'CTGG', 'GGTA', 'CCCC', 'CTAT', 'TTAG', 'GAAG', 'GGCG', 'AGAC', 'TACG', 'GTCA', 'CAAA', 'TTCC', 'AAAT', 'GGCT', 'TCCC', 'TCGA', 'TTCA', 'TGAC', 'GCCA', 'GAAT', 'GCCT', 'GGCT', 'GTGC', 'CAAT', 'TTGT', 'CGCC', 'TTGC', 'GTCG', 'TTCT', 'GTCA', 'ATCT', 'TTAC', 'TCGT', 'GTCG', 'TGTT', 'GTGA', 'TAAA', 'TGAC', 'AAAC', 'CCTG', 'CACA', 'ACGT', 'AGGG', 'CTCA', 'CACA', 'AGGG', 'AATC', 'TAGA', 'GTAT', 'CCGA', 'TACA', 'GGGA', 'GCTT', 'TAGC', 'TTCC', 'GTCC', 'CTTA', 'TAGC', 'CTGC', 'CATA', 'TTCT', 'TGCG', 'GTAG', 'CACG', 'AGCC', 'TCAG', 'ATCT', 'TCTC', 'ACTC', 'CGGA', 'AATG', 'GGAG', 'CTTC', 'GACG', 'GTCA', 'AGGG', 'CTAA', 'GACG', 'TCTT', 'CGGG', 'AGAA', 'ATAC', 'CTAG', 'GCGA', 'TGAC', 'CCTG', 'AGTG', 'GTTT', 'TCCG', 'CGTA', 'TAAC', 'TCAT', 'CCTG', 'GTTG', 'CAAA', 'TGAT', 'TACC', 'GTTA', 'TAGC', 'CTGG', 'GGAT', 'ATGC', 'CTCA', 'ATTC', 'CGAA', 'CCCA', 'GGAG', 'CATC', 'ACTC', 'GAGC', 'AATA', 'GCGG', 'TAAA', 'GGAG', 'GCTA', 'TTAG', 'CAAA', 'ATTG', 'TCAC', 'GATA', 'AGCG', 'CCGT', 'TGTA', 'GTGA', 'AATT', 'AAGA', 'TACA', 'TACA', 'TCGT', 'TTAG', 'CACA', 'TCAC', 'TCTC', 'ACGG', 'CGTC', 'TAGA', 'AGCT', 'GATC', 'TTCA', 'TATG', 'CTGA', 'CTCA', 'GAAG', 'GCTC', 'GGAT', 'AATA', 'GAGG', 'ACGA', 'AGGT', 'AGTT', 'TACT', 'CATC', 'GCTG', 'CCCC', 'GACT', 'ATTA', 'CGTG', 'TGCA', 'TGAT', 'AAAG', 'TCTG', 'ACCC', 'TGAC', 'GTTC', 'CCAA', 'GCCG', 'AGGC', 'AGAG', 'GGGT', 'TTTA', 'CGCT', 'GAAT', 'GTCC', 'GCTC', 'TCTG', 'TCGG', 'ATGA', 'TTTC', 'GGAA', 'GCTG']\n"
     ]
    }
   ],
   "source": [
    "four = []\n",
    "for nu in range(0,len(dna),4):  # selects from the first to the last element in dna, in steps of 4\n",
    "    four.append(dna[nu:nu+4])  # this is how you index a string\n",
    "    \n",
    "print(four)"
   ]
  },
  {
   "cell_type": "code",
   "execution_count": 63,
   "id": "d89021d1",
   "metadata": {},
   "outputs": [
    {
     "name": "stdout",
     "output_type": "stream",
     "text": [
      "['AGGCA', 'AGAAG', 'CTAGA', 'ATTCT', 'GGCCT', 'GAGTA', 'TCTCA', 'GTACA', 'GGCGC', 'AGTCG', 'AATCT', 'TCCGG', 'AATCA', 'CATTG', 'CTCGC', 'GCTTA', 'AACCC', 'GCTCT', 'AAACC', 'TTTGA', 'GTAAT', 'TCGAC', 'GACAT', 'TGGGT', 'TCCCT', 'CCGAC', 'GCTGT', 'CTGAC', 'AACTC', 'TTTAA', 'GATCC', 'TTGGC', 'ACGAT', 'GTCGA', 'TAGAC', 'ATTGT', 'CCCTG', 'ATGAC', 'GCCTC', 'ACAAG', 'GTAAC', 'CTGGC', 'TCTAG', 'TAGGG', 'TGGTC', 'TTTGC', 'TGCGG', 'AACTT', 'ACCAC', 'CTGGT', 'GGATC', 'CAAGC', 'ACCAG', 'AGGAG', 'TTCGA', 'AGAGG', 'CTGGG', 'GTACC', 'CCCTA', 'TTTAG', 'GAAGG', 'GCGAG', 'ACTAC', 'GGTCA', 'CAAAT', 'TCCAA', 'ATGGC', 'TTCCC', 'TCGAT', 'TCATG', 'ACGCC', 'AGAAT', 'GCCTG', 'GCTGT', 'GCCAA', 'TTTGT', 'CGCCT', 'TGCGT', 'CGTTC', 'TGTCA', 'ATCTT', 'TACTC', 'GTGTC', 'GTGTT', 'GTGAT', 'AAATG', 'ACAAA', 'CCCTG', 'CACAA', 'CGTAG', 'GGCTC', 'ACACA', 'AGGGA', 'ATCTA', 'GAGTA', 'TCCGA', 'TACAG', 'GGAGC', 'TTTAG', 'CTTCC', 'GTCCC', 'TTATA', 'GCCTG', 'CCATA', 'TTCTT', 'GCGGT', 'AGCAC', 'GAGCC', 'TCAGA', 'TCTTC', 'TCACT', 'CCGGA', 'AATGG', 'GAGCT', 'TCGAC', 'GGTCA', 'AGGGC', 'TAAGA', 'CGTCT', 'TCGGG', 'AGAAA', 'TACCT', 'AGGCG', 'ATGAC', 'CCTGA', 'GTGGT', 'TTTCC', 'GCGTA', 'TAACT', 'CATCC', 'TGGTT', 'GCAAA', 'TGATT', 'ACCGT', 'TATAG', 'CCTGG', 'GGATA', 'TGCCT', 'CAATT', 'CCGAA', 'CCCAG', 'GAGCA', 'TCACT', 'CGAGC', 'AATAG', 'CGGTA', 'AAGGA', 'GGCTA', 'TTAGC', 'AAAAT', 'TGTCA', 'CGATA', 'AGCGC', 'CGTTG', 'TAGTG', 'AAATT', 'AAGAT', 'ACATA', 'CATCG', 'TTTAG', 'CACAT', 'CACTC', 'TCACG', 'GCGTC', 'TAGAA', 'GCTGA', 'TCTTC', 'ATATG', 'CTGAC', 'TCAGA', 'AGGCT', 'CGGAT', 'AATAG', 'AGGAC', 'GAAGG', 'TAGTT', 'TACTC', 'ATCGC', 'TGCCC', 'CGACT', 'ATTAC', 'GTGTG', 'CATGA', 'TAAAG', 'TCTGA', 'CCCTG', 'ACGTT', 'CCCAA', 'GCCGA', 'GGCAG', 'AGGGG', 'TTTTA', 'CGCTG', 'AATGT', 'CCGCT', 'CTCTG', 'TCGGA', 'TGATT', 'TCGGA', 'AGCTG']\n"
     ]
    }
   ],
   "source": [
    "four = []\n",
    "for nu in range(0,len(dna),5):  # selects from the first to the last element in dna, in steps of 5\n",
    "    four.append(dna[nu:nu+5])  # this is how you index a string\n",
    "    \n",
    "print(four)"
   ]
  },
  {
   "cell_type": "code",
   "execution_count": 64,
   "id": "4f9ee4cc",
   "metadata": {},
   "outputs": [
    {
     "ename": "NameError",
     "evalue": "name 'a' is not defined",
     "output_type": "error",
     "traceback": [
      "\u001b[1;31m---------------------------------------------------------------------------\u001b[0m",
      "\u001b[1;31mNameError\u001b[0m                                 Traceback (most recent call last)",
      "Cell \u001b[1;32mIn[64], line 1\u001b[0m\n\u001b[1;32m----> 1\u001b[0m [a \u001b[38;5;28;01mfor\u001b[39;00m a \u001b[38;5;129;01min\u001b[39;00m dna[\u001b[43ma\u001b[49m:a\u001b[38;5;241m+\u001b[39m\u001b[38;5;241m4\u001b[39m]]\n",
      "\u001b[1;31mNameError\u001b[0m: name 'a' is not defined"
     ]
    }
   ],
   "source": [
    "[a for a in dna[a:a+4]] # how do I do this using list comprehension"
   ]
  },
  {
   "cell_type": "code",
   "execution_count": null,
   "id": "adad9f6b",
   "metadata": {},
   "outputs": [],
   "source": []
  },
  {
   "cell_type": "code",
   "execution_count": null,
   "id": "d5cb4deb",
   "metadata": {},
   "outputs": [],
   "source": []
  }
 ],
 "metadata": {
  "kernelspec": {
   "display_name": "Python 3 (ipykernel)",
   "language": "python",
   "name": "python3"
  },
  "language_info": {
   "codemirror_mode": {
    "name": "ipython",
    "version": 3
   },
   "file_extension": ".py",
   "mimetype": "text/x-python",
   "name": "python",
   "nbconvert_exporter": "python",
   "pygments_lexer": "ipython3",
   "version": "3.10.8"
  },
  "toc": {
   "base_numbering": 1,
   "nav_menu": {},
   "number_sections": true,
   "sideBar": true,
   "skip_h1_title": false,
   "title_cell": "Table of Contents",
   "title_sidebar": "Contents",
   "toc_cell": false,
   "toc_position": {},
   "toc_section_display": true,
   "toc_window_display": false
  },
  "varInspector": {
   "cols": {
    "lenName": 16,
    "lenType": 16,
    "lenVar": 40
   },
   "kernels_config": {
    "python": {
     "delete_cmd_postfix": "",
     "delete_cmd_prefix": "del ",
     "library": "var_list.py",
     "varRefreshCmd": "print(var_dic_list())"
    },
    "r": {
     "delete_cmd_postfix": ") ",
     "delete_cmd_prefix": "rm(",
     "library": "var_list.r",
     "varRefreshCmd": "cat(var_dic_list()) "
    }
   },
   "types_to_exclude": [
    "module",
    "function",
    "builtin_function_or_method",
    "instance",
    "_Feature"
   ],
   "window_display": false
  },
  "vscode": {
   "interpreter": {
    "hash": "31f2aee4e71d21fbe5cf8b01ff0e069b9275f58929596ceb00d14d90e3e16cd6"
   }
  }
 },
 "nbformat": 4,
 "nbformat_minor": 5
}
